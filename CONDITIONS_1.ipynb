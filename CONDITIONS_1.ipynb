{
  "nbformat": 4,
  "nbformat_minor": 0,
  "metadata": {
    "colab": {
      "provenance": [],
      "authorship_tag": "ABX9TyOMmBa0lGlnl2VWi+9vBJ2C",
      "include_colab_link": true
    },
    "kernelspec": {
      "name": "python3",
      "display_name": "Python 3"
    },
    "language_info": {
      "name": "python"
    }
  },
  "cells": [
    {
      "cell_type": "markdown",
      "metadata": {
        "id": "view-in-github",
        "colab_type": "text"
      },
      "source": [
        "<a href=\"https://colab.research.google.com/github/Rizzuto82/Esercizi-develhope/blob/main/CONDITIONS_1.ipynb\" target=\"_parent\"><img src=\"https://colab.research.google.com/assets/colab-badge.svg\" alt=\"Open In Colab\"/></a>"
      ]
    },
    {
      "cell_type": "code",
      "execution_count": null,
      "metadata": {
        "id": "FBJ7GLKBPzqx"
      },
      "outputs": [],
      "source": [
        "print if num1 or num2 is greater (num1 = 335 num2 = 66)"
      ]
    },
    {
      "cell_type": "code",
      "source": [
        "num1 = 335\n",
        "num2 = 66\n",
        "if num1 > num2 :\n",
        "  print(\"num1 is greater\")\n"
      ],
      "metadata": {
        "colab": {
          "base_uri": "https://localhost:8080/"
        },
        "id": "Fk63lo6EQDgq",
        "outputId": "0712ee3d-6eca-4c3d-857a-ac7bf4bbc7c1"
      },
      "execution_count": 8,
      "outputs": [
        {
          "output_type": "stream",
          "name": "stdout",
          "text": [
            "num1 is greater\n"
          ]
        }
      ]
    }
  ]
}