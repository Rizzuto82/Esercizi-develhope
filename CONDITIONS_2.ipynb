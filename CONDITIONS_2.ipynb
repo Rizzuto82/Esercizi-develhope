{
  "nbformat": 4,
  "nbformat_minor": 0,
  "metadata": {
    "colab": {
      "provenance": [],
      "authorship_tag": "ABX9TyOLW3kUctDhUDGQaG3ZEb+5",
      "include_colab_link": true
    },
    "kernelspec": {
      "name": "python3",
      "display_name": "Python 3"
    },
    "language_info": {
      "name": "python"
    }
  },
  "cells": [
    {
      "cell_type": "markdown",
      "metadata": {
        "id": "view-in-github",
        "colab_type": "text"
      },
      "source": [
        "<a href=\"https://colab.research.google.com/github/Rizzuto82/Esercizi-develhope/blob/main/CONDITIONS_2.ipynb\" target=\"_parent\"><img src=\"https://colab.research.google.com/assets/colab-badge.svg\" alt=\"Open In Colab\"/></a>"
      ]
    },
    {
      "cell_type": "code",
      "source": [
        "#check if number1 is greater than number 2 and print number1 is greater than number2\n",
        "#then check and if number 2 is greater than number 1 and print number2 is greater than number1\n",
        "#finally at the end if both conditions incorrect print number2 equals to number1\n",
        "\n",
        "number1 = 66\n",
        "number2 = 66"
      ],
      "metadata": {
        "id": "kYKd8LcJR5hJ"
      },
      "execution_count": null,
      "outputs": []
    },
    {
      "cell_type": "code",
      "source": [
        "number1 = 66\n",
        "number2 = 66\n",
        "if number1 > number2 :\n",
        "  print(\"number1 is greater than number2\")\n",
        "if number2 > number1 :\n",
        "    print(\"number2 is greater than number1\")\n",
        "else:\n",
        "      print(\"number2 equals to number1\")"
      ],
      "metadata": {
        "id": "DTHIwfpKTjb6",
        "colab": {
          "base_uri": "https://localhost:8080/"
        },
        "outputId": "db5824e3-753a-4cd6-d739-2b9874b22c19"
      },
      "execution_count": 43,
      "outputs": [
        {
          "output_type": "stream",
          "name": "stdout",
          "text": [
            "number2 equals to number1\n"
          ]
        }
      ]
    }
  ]
}