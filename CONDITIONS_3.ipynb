{
  "nbformat": 4,
  "nbformat_minor": 0,
  "metadata": {
    "colab": {
      "provenance": [],
      "authorship_tag": "ABX9TyMk/dyXk0INHFz0mES/RSOW",
      "include_colab_link": true
    },
    "kernelspec": {
      "name": "python3",
      "display_name": "Python 3"
    },
    "language_info": {
      "name": "python"
    }
  },
  "cells": [
    {
      "cell_type": "markdown",
      "metadata": {
        "id": "view-in-github",
        "colab_type": "text"
      },
      "source": [
        "<a href=\"https://colab.research.google.com/github/Rizzuto82/Esercizi-develhope/blob/main/CONDITIONS_3.ipynb\" target=\"_parent\"><img src=\"https://colab.research.google.com/assets/colab-badge.svg\" alt=\"Open In Colab\"/></a>"
      ]
    },
    {
      "cell_type": "code",
      "source": [
        "#compare those 2 numbers and write `X greater than Y`\n",
        "#But be sure you are making the check for all the conditions\n"
      ],
      "metadata": {
        "id": "9E15OH3PXwYw"
      },
      "execution_count": null,
      "outputs": []
    },
    {
      "cell_type": "code",
      "source": [
        "import random\n",
        "\n",
        "number1 = random.randint(1,100)\n",
        "number2 = random.randint(1,100)\n",
        "print(number1)\n",
        "print(number2)\n",
        "x = 55\n",
        "y = 9\n",
        "if x > y :\n",
        " print(\"x greater than y\")\n",
        "elif x < y :\n",
        "  print(\"x is less than y\")\n",
        "else :\n",
        "  print(\"both numbers are equal\")\n"
      ],
      "metadata": {
        "colab": {
          "base_uri": "https://localhost:8080/"
        },
        "id": "z05ZfpqbNV3I",
        "outputId": "d43a4677-6d4e-4f05-833d-1f1c51b1ae63"
      },
      "execution_count": 3,
      "outputs": [
        {
          "output_type": "stream",
          "name": "stdout",
          "text": [
            "55\n",
            "9\n",
            "x greater than y\n"
          ]
        }
      ]
    }
  ]
}