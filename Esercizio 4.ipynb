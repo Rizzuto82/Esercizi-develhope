{
 "cells": [
  {
   "cell_type": "markdown",
   "metadata": {},
   "source": [
    "Using input() to ask the user for their name, age, and city of residence.\n",
    "Using variables to store the user's input and display a sentence about the user.\n",
    "Implementing the upper() and lower() methods to change the case of the variables.\n",
    "Using the len() function to find the length of each string and display it.\n",
    "Create two variables \"first_name\" and \"last_name\" and combine them to form a full name string.\n",
    "Create a variable \"fav_language\" and assign a string value to it. Then, create a sentence that states your favorite programming language.\n",
    "Create a variable \"current_year\" and assign the current year as an integer value. Then, create another variable \"birth_year\" and assign a year of birth as an integer value. Calculate and print the age of the person.\n",
    "Create a variable \"sentence\" and assign a string value to it. Print the number of characters in the sentence."
   ]
  },
  {
   "cell_type": "code",
   "execution_count": 4,
   "metadata": {},
   "outputs": [
    {
     "name": "stdout",
     "output_type": "stream",
     "text": [
      "Manuela Rizzuto\n"
     ]
    }
   ],
   "source": [
    "first_name = \"Manuela\"\n",
    "last_name = \"Rizzuto\"\n",
    "full_name = first_name  + \" \" +  last_name\n",
    "print(full_name)"
   ]
  },
  {
   "cell_type": "code",
   "execution_count": 9,
   "metadata": {},
   "outputs": [
    {
     "name": "stdout",
     "output_type": "stream",
     "text": [
      "I like to work with my sql\n"
     ]
    }
   ],
   "source": [
    "fav_language = \"sql\"\n",
    "txt = \"I like to work with my {}\"\n",
    "print(txt.format(fav_language))"
   ]
  },
  {
   "cell_type": "code",
   "execution_count": 10,
   "metadata": {},
   "outputs": [
    {
     "name": "stdout",
     "output_type": "stream",
     "text": [
      "41\n"
     ]
    }
   ],
   "source": [
    "current_year = 2023\n",
    "birth_year = 1982\n",
    "print(current_year-birth_year)"
   ]
  },
  {
   "cell_type": "code",
   "execution_count": 11,
   "metadata": {},
   "outputs": [
    {
     "name": "stdout",
     "output_type": "stream",
     "text": [
      "15\n"
     ]
    }
   ],
   "source": [
    "sentence = \" I love animals\"\n",
    "print(len(sentence))"
   ]
  }
 ],
 "metadata": {
  "kernelspec": {
   "display_name": "base",
   "language": "python",
   "name": "python3"
  },
  "language_info": {
   "codemirror_mode": {
    "name": "ipython",
    "version": 3
   },
   "file_extension": ".py",
   "mimetype": "text/x-python",
   "name": "python",
   "nbconvert_exporter": "python",
   "pygments_lexer": "ipython3",
   "version": "3.11.3"
  },
  "orig_nbformat": 4
 },
 "nbformat": 4,
 "nbformat_minor": 2
}
