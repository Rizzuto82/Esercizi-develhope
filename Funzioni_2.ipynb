{
  "nbformat": 4,
  "nbformat_minor": 0,
  "metadata": {
    "colab": {
      "provenance": [],
      "authorship_tag": "ABX9TyMX7KZe55h2zpmU6/PGOV/M",
      "include_colab_link": true
    },
    "kernelspec": {
      "name": "python3",
      "display_name": "Python 3"
    },
    "language_info": {
      "name": "python"
    }
  },
  "cells": [
    {
      "cell_type": "markdown",
      "metadata": {
        "id": "view-in-github",
        "colab_type": "text"
      },
      "source": [
        "<a href=\"https://colab.research.google.com/github/Rizzuto82/Esercizi-develhope/blob/main/Funzioni_2.ipynb\" target=\"_parent\"><img src=\"https://colab.research.google.com/assets/colab-badge.svg\" alt=\"Open In Colab\"/></a>"
      ]
    },
    {
      "cell_type": "code",
      "execution_count": 9,
      "metadata": {
        "id": "PX3ZLEKZyywP"
      },
      "outputs": [],
      "source": [
        "#now you create a function named goodbye with a parameter `name` and say \"Good bye Adam\"\n",
        "\n",
        "def hello(name):\n",
        "    print(f\"hello {name}\")\n",
        "\n",
        "\n",
        "\n",
        "\n"
      ]
    },
    {
      "cell_type": "code",
      "source": [
        "def goodbye(name):\n",
        "    print(f\"goodbye {name}\")\n",
        "\n",
        "\n",
        "goodbye(\"Adam\")"
      ],
      "metadata": {
        "colab": {
          "base_uri": "https://localhost:8080/"
        },
        "id": "1wSTSHih8LnS",
        "outputId": "73cdbac2-1b2e-4ac9-e5e2-461df3f3b5c2"
      },
      "execution_count": 16,
      "outputs": [
        {
          "output_type": "stream",
          "name": "stdout",
          "text": [
            "goodbye Adam\n"
          ]
        }
      ]
    }
  ]
}