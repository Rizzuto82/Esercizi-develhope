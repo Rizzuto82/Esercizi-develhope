{
  "nbformat": 4,
  "nbformat_minor": 0,
  "metadata": {
    "colab": {
      "provenance": [],
      "authorship_tag": "ABX9TyOVJMenGT2f9mTTnPgpGDiH",
      "include_colab_link": true
    },
    "kernelspec": {
      "name": "python3",
      "display_name": "Python 3"
    },
    "language_info": {
      "name": "python"
    }
  },
  "cells": [
    {
      "cell_type": "markdown",
      "metadata": {
        "id": "view-in-github",
        "colab_type": "text"
      },
      "source": [
        "<a href=\"https://colab.research.google.com/github/Rizzuto82/Esercizi-develhope/blob/main/ITERATORS_FOR_LOOP.ipynb\" target=\"_parent\"><img src=\"https://colab.research.google.com/assets/colab-badge.svg\" alt=\"Open In Colab\"/></a>"
      ]
    },
    {
      "cell_type": "code",
      "execution_count": null,
      "metadata": {
        "id": "xjOsteXj2Dc-"
      },
      "outputs": [],
      "source": [
        "#Create\n",
        "#\n",
        "#*\n",
        "#***\n",
        "#*****\n",
        "#this shape with print, for loop, if and continue statements"
      ]
    },
    {
      "cell_type": "code",
      "source": [
        "for i in range(1,6):\n",
        "   if i %2 == 0 :\n",
        "    continue\n",
        "else :\n",
        "      print(\"*\"*i)\n"
      ],
      "metadata": {
        "colab": {
          "base_uri": "https://localhost:8080/"
        },
        "id": "8Jk5Dzex2Q0D",
        "outputId": "c536f06e-d60a-44c5-9076-19c6a0c76eda"
      },
      "execution_count": 2,
      "outputs": [
        {
          "output_type": "stream",
          "name": "stdout",
          "text": [
            "*****\n"
          ]
        }
      ]
    },
    {
      "cell_type": "code",
      "source": [
        "#Gaetano credo che la sintassi sia giusta..non capisco perchè le stampa tutte attaccate! mi sono anche confrontata con i ragazzi..."
      ],
      "metadata": {
        "id": "iMWJcM6mOXbz"
      },
      "execution_count": null,
      "outputs": []
    }
  ]
}