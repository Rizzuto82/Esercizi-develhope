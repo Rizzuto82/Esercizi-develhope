{
  "nbformat": 4,
  "nbformat_minor": 0,
  "metadata": {
    "colab": {
      "provenance": [],
      "authorship_tag": "ABX9TyOPthsld3heuLEo2+d66SUm",
      "include_colab_link": true
    },
    "kernelspec": {
      "name": "python3",
      "display_name": "Python 3"
    },
    "language_info": {
      "name": "python"
    }
  },
  "cells": [
    {
      "cell_type": "markdown",
      "metadata": {
        "id": "view-in-github",
        "colab_type": "text"
      },
      "source": [
        "<a href=\"https://colab.research.google.com/github/Rizzuto82/Esercizi-develhope/blob/main/STRING_MANIPULATION.ipynb\" target=\"_parent\"><img src=\"https://colab.research.google.com/assets/colab-badge.svg\" alt=\"Open In Colab\"/></a>"
      ]
    },
    {
      "cell_type": "code",
      "source": [
        "#Create a string variable quote.\n",
        "#Use string slicing to extract a specific word from the string (e.g., \"is\" from \"This is a quote.\")\n",
        "#Use string methods to change the case of the string (e.g., upper, lower, title).\n",
        "#Use string methods to remove specific characters from the string (e.g., replace, strip)\n",
        "#Use string formatting to insert a variable into the string (e.g., {})."
      ],
      "metadata": {
        "id": "taHUgqDhLmVo"
      },
      "execution_count": null,
      "outputs": []
    },
    {
      "cell_type": "code",
      "source": [
        "quote = \"this is a quote\"\n",
        "print(quote[4:-8])\n",
        "quote.upper()\n",
        "quote.lower()\n",
        "quote.title()\n",
        "quote.replace(\"this\",\"that\")\n",
        "\n",
        "quote =\",,,,,,this is a quote\"\n",
        "quote.strip(\",\")"
      ],
      "metadata": {
        "colab": {
          "base_uri": "https://localhost:8080/",
          "height": 53
        },
        "id": "iiAO83q2Lzxj",
        "outputId": "670a75be-ffbf-4110-f6fd-e31e4985da4a"
      },
      "execution_count": 32,
      "outputs": [
        {
          "output_type": "stream",
          "name": "stdout",
          "text": [
            " is\n"
          ]
        },
        {
          "output_type": "execute_result",
          "data": {
            "text/plain": [
              "'this is a quote'"
            ],
            "application/vnd.google.colaboratory.intrinsic+json": {
              "type": "string"
            }
          },
          "metadata": {},
          "execution_count": 32
        }
      ]
    },
    {
      "cell_type": "code",
      "source": [
        "quote = \"this is a {} quote\"\n",
        "b = \"very good\"\n",
        "print(quote.format(b))"
      ],
      "metadata": {
        "colab": {
          "base_uri": "https://localhost:8080/"
        },
        "id": "e4pjnq7eOSo0",
        "outputId": "d9fc1324-ac36-4b4d-9997-8cc8f8d4807a"
      },
      "execution_count": 33,
      "outputs": [
        {
          "output_type": "stream",
          "name": "stdout",
          "text": [
            "this is a very good quote\n"
          ]
        }
      ]
    }
  ]
}