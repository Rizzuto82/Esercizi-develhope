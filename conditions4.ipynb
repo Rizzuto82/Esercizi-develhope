{
  "nbformat": 4,
  "nbformat_minor": 0,
  "metadata": {
    "colab": {
      "provenance": [],
      "authorship_tag": "ABX9TyMcWvkxIXcJOOXtrncWume+",
      "include_colab_link": true
    },
    "kernelspec": {
      "name": "python3",
      "display_name": "Python 3"
    },
    "language_info": {
      "name": "python"
    }
  },
  "cells": [
    {
      "cell_type": "markdown",
      "metadata": {
        "id": "view-in-github",
        "colab_type": "text"
      },
      "source": [
        "<a href=\"https://colab.research.google.com/github/Rizzuto82/Esercizi-develhope/blob/main/conditions4.ipynb\" target=\"_parent\"><img src=\"https://colab.research.google.com/assets/colab-badge.svg\" alt=\"Open In Colab\"/></a>"
      ]
    },
    {
      "cell_type": "code",
      "execution_count": null,
      "metadata": {
        "id": "wlPJ8GHkPybX"
      },
      "outputs": [],
      "source": [
        "#Compare those 2 numbers' absolute values and write X's absolute value greater than Y's\n",
        "#absolute value Use abs function to do that.\n",
        "#eg. abs(-5) -> 5\n",
        "#abs function makes all numbers positive"
      ]
    },
    {
      "cell_type": "code",
      "source": [
        "import random\n",
        "\n",
        "number1 = random.randint(-100,100)\n",
        "number2 = random.randint(-100,100)\n",
        "print(number1)\n",
        "print(number2)\n",
        "x = -12\n",
        "y = -4\n",
        "if abs(x) > abs(y) :\n",
        " print(\" X's absolute value greater than Y's absolute value\")\n",
        "\n",
        ""
      ],
      "metadata": {
        "colab": {
          "base_uri": "https://localhost:8080/"
        },
        "id": "HVU_BS18QJMP",
        "outputId": "c87fab0a-07fc-40eb-c1eb-c09c15ffaef2"
      },
      "execution_count": 4,
      "outputs": [
        {
          "output_type": "stream",
          "name": "stdout",
          "text": [
            "-12\n",
            "-4\n",
            " X's absolute value greater than Y's absolute value\n"
          ]
        }
      ]
    }
  ]
}