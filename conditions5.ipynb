{
  "nbformat": 4,
  "nbformat_minor": 0,
  "metadata": {
    "colab": {
      "provenance": [],
      "authorship_tag": "ABX9TyMg1aMz6+X72bYR4jg3oCPz",
      "include_colab_link": true
    },
    "kernelspec": {
      "name": "python3",
      "display_name": "Python 3"
    },
    "language_info": {
      "name": "python"
    }
  },
  "cells": [
    {
      "cell_type": "markdown",
      "metadata": {
        "id": "view-in-github",
        "colab_type": "text"
      },
      "source": [
        "<a href=\"https://colab.research.google.com/github/Rizzuto82/Esercizi-develhope/blob/main/conditions5.ipynb\" target=\"_parent\"><img src=\"https://colab.research.google.com/assets/colab-badge.svg\" alt=\"Open In Colab\"/></a>"
      ]
    },
    {
      "cell_type": "markdown",
      "source": [
        "Create a variable called age and assign the value 20 to it. Then write an if statement that prints \"You are a teenager\" if the value of age is less than 18, and \"You are an adult\" if the value of age is equal to or greater than 18.\n",
        "Create two variables called name and city. Then write an if statement that prints \"You are from [city]\" if the value of name is equal to \"John\" or \"Jane\", and \"You are not from [city]\" if the value of name is anything else.\n",
        "Create a variable called password and assign a value to it. Then write an if statement that checks if the length of password is less than 6 characters. If it is, then print \"The password is too short\". Otherwise, print \"The password is long enough\".\n",
        "Create a variable called number and assign a value to it. Then write an if statement that checks if number is positive, negative, or zero. If it is positive, print \"The number is positive\". If it is negative, print \"The number is negative\". If it is zero, print \"The number is zero\".\n",
        "Create two variables called x and y. Then write an if statement that prints \"x is greater than y\" if x is greater than y, and \"y is greater than x\" if y is greater than x.\n",
        "Create two variables called a and b. Then write an if statement that prints \"a is equal to b\" if a is equal to b, and \"a is not equal to"
      ],
      "metadata": {
        "id": "qwigeRyXz70i"
      }
    },
    {
      "cell_type": "code",
      "execution_count": 7,
      "metadata": {
        "colab": {
          "base_uri": "https://localhost:8080/"
        },
        "id": "4XJIud-kz7AI",
        "outputId": "cd001f73-83ca-4e96-db67-5b8edadecb94"
      },
      "outputs": [
        {
          "output_type": "stream",
          "name": "stdout",
          "text": [
            "you are an adult\n"
          ]
        }
      ],
      "source": [
        "age = 20\n",
        "if age <18 :\n",
        "  print(\"you are a teenager\")\n",
        "else :\n",
        "    print(\"you are an adult\")\n"
      ]
    },
    {
      "cell_type": "code",
      "source": [
        "name = \"Tom\"\n",
        "city = \"Palermo\"\n",
        "if name == \"Jane\" :\n",
        " print(\"you are from Palermo\")\n",
        "else :\n",
        " print(\"you are not from Palermo\")"
      ],
      "metadata": {
        "colab": {
          "base_uri": "https://localhost:8080/"
        },
        "id": "3RpvhDv-1U9P",
        "outputId": "453e0205-a893-48ea-cd93-c8b4bb7b5926"
      },
      "execution_count": 6,
      "outputs": [
        {
          "output_type": "stream",
          "name": "stdout",
          "text": [
            "you are not from Palermo\n"
          ]
        }
      ]
    },
    {
      "cell_type": "code",
      "source": [
        "password = \"Gatto_oliver\"\n",
        "if len(password) <6 :\n",
        "  print(\"The password is too short\")\n",
        "else :\n",
        "  print(\"The password is long enough\")"
      ],
      "metadata": {
        "colab": {
          "base_uri": "https://localhost:8080/"
        },
        "id": "41vvJ_Zc6_fU",
        "outputId": "b09e39cf-effe-432d-fcfb-0193cbc7e404"
      },
      "execution_count": 5,
      "outputs": [
        {
          "output_type": "stream",
          "name": "stdout",
          "text": [
            "The password is long enough\n"
          ]
        }
      ]
    },
    {
      "cell_type": "code",
      "source": [
        "number = 85\n",
        "if number > 0 :\n",
        "  print(\"number is positive\")\n",
        "elif number < 0 :\n",
        "    print(\"number is negative\")\n",
        "elif number == 0:\n",
        "    print(\"number is 0\")\n",
        "\n"
      ],
      "metadata": {
        "colab": {
          "base_uri": "https://localhost:8080/"
        },
        "id": "B0gAgkUL9Jmp",
        "outputId": "0d8e9b00-e997-4d6f-948d-2e174a1d21c7"
      },
      "execution_count": 15,
      "outputs": [
        {
          "output_type": "stream",
          "name": "stdout",
          "text": [
            "number is positive\n"
          ]
        }
      ]
    },
    {
      "cell_type": "code",
      "source": [
        "x = 25\n",
        "y = 78\n",
        "if x > y :\n",
        "  print(\"x is greater than y\")\n",
        "else :\n",
        "    print(\"y is greater than x\")"
      ],
      "metadata": {
        "colab": {
          "base_uri": "https://localhost:8080/"
        },
        "id": "nRB_2FK4-4ky",
        "outputId": "970f3d39-18fb-4c25-d1ea-caa2b4f8feae"
      },
      "execution_count": 12,
      "outputs": [
        {
          "output_type": "stream",
          "name": "stdout",
          "text": [
            "y is greater than x\n"
          ]
        }
      ]
    },
    {
      "cell_type": "code",
      "source": [
        "a = 65\n",
        "b = 65\n",
        "if a == b :\n",
        "  print(\"a is equal to b\")\n",
        "else :\n",
        "  print(\"a is not equal to b\")\n"
      ],
      "metadata": {
        "colab": {
          "base_uri": "https://localhost:8080/"
        },
        "id": "wMwMJXhL_vZZ",
        "outputId": "65080d3b-72aa-4453-cb56-6eee0ce7dc64"
      },
      "execution_count": 13,
      "outputs": [
        {
          "output_type": "stream",
          "name": "stdout",
          "text": [
            "a is equal to b\n"
          ]
        }
      ]
    }
  ]
}