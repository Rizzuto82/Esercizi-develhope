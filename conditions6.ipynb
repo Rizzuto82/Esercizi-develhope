{
  "nbformat": 4,
  "nbformat_minor": 0,
  "metadata": {
    "colab": {
      "provenance": [],
      "authorship_tag": "ABX9TyPN2sIkVqU4dVlpfNLRmi38",
      "include_colab_link": true
    },
    "kernelspec": {
      "name": "python3",
      "display_name": "Python 3"
    },
    "language_info": {
      "name": "python"
    }
  },
  "cells": [
    {
      "cell_type": "markdown",
      "metadata": {
        "id": "view-in-github",
        "colab_type": "text"
      },
      "source": [
        "<a href=\"https://colab.research.google.com/github/Rizzuto82/Esercizi-develhope/blob/main/conditions6.ipynb\" target=\"_parent\"><img src=\"https://colab.research.google.com/assets/colab-badge.svg\" alt=\"Open In Colab\"/></a>"
      ]
    },
    {
      "cell_type": "code",
      "execution_count": null,
      "metadata": {
        "id": "JidCRbWJSKQh"
      },
      "outputs": [],
      "source": [
        "#Write a python program to input two numbers from the user and check which number is greater.If the first number is greater, print \"First number is greater\". If the second number is greater, print \"Second number is greater\". If both are equal, print \"Both numbers are equal\".\n",
        "#Write a python program to find the sum of three numbers and check if it is even or odd.If the sum is even, print \"The sum is even\". If the sum is odd, print \"The sum is odd\".\n",
        "#Write a python program to check if a year is a leap year or not. If the year is a leap year, print \"The year is a leap year\".If the year is not a leap year, print \"The year is not a leap year\"."
      ]
    },
    {
      "cell_type": "code",
      "source": [
        "num1 = int(input())\n",
        "num2 = int(input())\n",
        "\n",
        "if num1 > num2 :\n",
        "    print(\"first number is greater\")\n",
        "elif num1 < num2 :\n",
        "    print(\"second number is greater\")\n",
        "else :\n",
        "  print(\"both numbers are equal\")"
      ],
      "metadata": {
        "colab": {
          "base_uri": "https://localhost:8080/"
        },
        "id": "iWIuR41RS4k3",
        "outputId": "f7826afe-c04d-4bd2-f330-e0e3dd4ed626"
      },
      "execution_count": null,
      "outputs": [
        {
          "output_type": "stream",
          "name": "stdout",
          "text": [
            "55\n",
            "67\n",
            "second number is greater\n"
          ]
        }
      ]
    },
    {
      "cell_type": "code",
      "source": [
        "a = 15\n",
        "b = 12\n",
        "c = 34\n",
        "print(a+b+c)\n",
        "if (a+b+c)%2 ==0 :\n",
        "  print(\"the sum is even\")\n",
        "else :\n",
        "    print(\"the sum is odd\")\n",
        "\n",
        "\n"
      ],
      "metadata": {
        "colab": {
          "base_uri": "https://localhost:8080/"
        },
        "id": "QliXb9xgU6X0",
        "outputId": "99186432-f547-424a-bfa8-1ca88b644b93"
      },
      "execution_count": null,
      "outputs": [
        {
          "output_type": "stream",
          "name": "stdout",
          "text": [
            "61\n",
            "the sum is odd\n"
          ]
        }
      ]
    },
    {
      "cell_type": "code",
      "source": [
        "import calendar\n",
        "year = int(input(\"enter year: \"))\n",
        "val = calendar.isleap(year)\n",
        "if val == True :\n",
        "  print(\"the year is a leap year\")\n",
        "else :\n",
        "    print(\"the year is not a leap year\")"
      ],
      "metadata": {
        "id": "oH3EP32zfeYm",
        "colab": {
          "base_uri": "https://localhost:8080/"
        },
        "outputId": "6a98f9e5-87b6-4e27-a951-6c6b0557c9f4"
      },
      "execution_count": 2,
      "outputs": [
        {
          "output_type": "stream",
          "name": "stdout",
          "text": [
            "enter year: 2017\n",
            "the year is not a leap year\n"
          ]
        }
      ]
    }
  ]
}