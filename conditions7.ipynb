{
  "nbformat": 4,
  "nbformat_minor": 0,
  "metadata": {
    "colab": {
      "provenance": [],
      "authorship_tag": "ABX9TyMR8v6xuOrUfH7BBjkmI4CN",
      "include_colab_link": true
    },
    "kernelspec": {
      "name": "python3",
      "display_name": "Python 3"
    },
    "language_info": {
      "name": "python"
    }
  },
  "cells": [
    {
      "cell_type": "markdown",
      "metadata": {
        "id": "view-in-github",
        "colab_type": "text"
      },
      "source": [
        "<a href=\"https://colab.research.google.com/github/Rizzuto82/Esercizi-develhope/blob/main/conditions7.ipynb\" target=\"_parent\"><img src=\"https://colab.research.google.com/assets/colab-badge.svg\" alt=\"Open In Colab\"/></a>"
      ]
    },
    {
      "cell_type": "code",
      "execution_count": null,
      "metadata": {
        "id": "nY56y7Wmf9Ak"
      },
      "outputs": [],
      "source": [
        "#1. Write a python program that inputs a letter from the user and check if it is a vowel or consonant. If the letter is a vowel, print \"The letter is a vowel\".\n",
        "# If the letter is a consonant, print \"The letter is a consonant\".\n",
        "#2. Write a python program that inputs a number from the user and checks if it is positive, negative, or zero\n",
        "# If the number is positive, print \"The number is positive\". If the number is negative, print \"The number is negative\". If the number is zero, print \"The number is zero\".\n",
        "#3. Write a python program to check if a number is divisible by 5 and 11 or not. If the number is divisible by 5 and 11, print \"The number is divisible by 5 and 11\".\n",
        "#If the number is not divisible by 5 and 11, print \"The number is not divisible by 5 and 11\"."
      ]
    },
    {
      "cell_type": "code",
      "source": [
        "letter = input(\"Enter a character: \")\n",
        "vowels = \"aeiou\"\n",
        "if letter in vowels :\n",
        "    print(\"the letter is a vowel\")\n",
        "else:\n",
        "    print(\"the letter is a consonant\")"
      ],
      "metadata": {
        "colab": {
          "base_uri": "https://localhost:8080/"
        },
        "id": "z1NiyAA5glzS",
        "outputId": "f8029b79-7397-4f81-9197-5d2e12712b14"
      },
      "execution_count": 3,
      "outputs": [
        {
          "output_type": "stream",
          "name": "stdout",
          "text": [
            "Enter a character: k\n",
            "the letter is a consonant\n"
          ]
        }
      ]
    },
    {
      "cell_type": "code",
      "source": [
        "number =int(input(\"enter a number: \"))\n",
        "if number > 0 :\n",
        "  print(\"number is positive\")\n",
        "elif number < 0 :\n",
        "  print(\"number is negative\")\n",
        "else :\n",
        "  print(\"number is zero\")"
      ],
      "metadata": {
        "colab": {
          "base_uri": "https://localhost:8080/"
        },
        "id": "21U3d5Q8iuK8",
        "outputId": "4efbd85e-879e-407f-e8f6-bda436ca6b74"
      },
      "execution_count": 5,
      "outputs": [
        {
          "output_type": "stream",
          "name": "stdout",
          "text": [
            "enter a number: 0\n",
            "number is zero\n"
          ]
        }
      ]
    },
    {
      "cell_type": "code",
      "source": [
        "number = int(input(\" Enter a number : \"))\n",
        "\n",
        "if((number% 5 == 0) and (number% 11 == 0)):\n",
        " print(\"The number is divisible by 5 and 11\")\n",
        "else:\n",
        "    print(\"The number is not divisible by 5 and 11\")"
      ],
      "metadata": {
        "colab": {
          "base_uri": "https://localhost:8080/"
        },
        "id": "3qw6XNW7kSpc",
        "outputId": "a5c3d43d-5843-494e-c5cb-19a1bcfe3ae6"
      },
      "execution_count": 7,
      "outputs": [
        {
          "output_type": "stream",
          "name": "stdout",
          "text": [
            " Enter a number : 55\n",
            "The number is divisible by 5 and 11\n"
          ]
        }
      ]
    }
  ]
}