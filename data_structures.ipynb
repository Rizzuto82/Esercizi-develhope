{
  "nbformat": 4,
  "nbformat_minor": 0,
  "metadata": {
    "colab": {
      "provenance": [],
      "authorship_tag": "ABX9TyPWStMRqsNGZyqD3mIa3XyN",
      "include_colab_link": true
    },
    "kernelspec": {
      "name": "python3",
      "display_name": "Python 3"
    },
    "language_info": {
      "name": "python"
    }
  },
  "cells": [
    {
      "cell_type": "markdown",
      "metadata": {
        "id": "view-in-github",
        "colab_type": "text"
      },
      "source": [
        "<a href=\"https://colab.research.google.com/github/Rizzuto82/Esercizi-develhope/blob/main/data_structures.ipynb\" target=\"_parent\"><img src=\"https://colab.research.google.com/assets/colab-badge.svg\" alt=\"Open In Colab\"/></a>"
      ]
    },
    {
      "cell_type": "code",
      "execution_count": null,
      "metadata": {
        "id": "U8Ah3cS4xV-u"
      },
      "outputs": [],
      "source": [
        "#1. print the lengths of `list1`,`tuple1`,`set1`,`dict1`\n",
        "#2. print the first element of `list1` and `tuple1`\n",
        "#3. print the value of `lion` key of `dict1`\n",
        "#4. change the 2nd position element of `list1` to \"rabbit\"\n",
        "#5. try to change the 2nd position element of the tuple to \"rabbit\" and explain what happened.\n",
        "#6. add \"monkey\" to `list1`\n",
        "#7. remove \"rabbit\" from `list1`\n",
        "#8. in `dict1` the number of feet is written as value to each animal the fixh has wrong value just fix it."
      ]
    },
    {
      "cell_type": "code",
      "source": [
        "list1 = [\"lion\", \"monkey\", \"dog\",\"fish\"]\n",
        "tuple1 = (\"lion\", \"monkey\", \"dog\",\"fish\")\n",
        "set1 = {\"lion\", \"monkey\", \"dog\",\"fish\"}\n",
        "dict1 = {\"lion\":4, \"monkey\":2, \"dog\":4,\"fish\":2}\n",
        "\n",
        "print(len(list1))\n",
        "print(len(tuple1))\n",
        "print(len(set1))\n",
        "print(len(dict1))\n",
        "\n",
        "\n",
        "print(list1[0])\n",
        "print(tuple1[0])\n",
        "\n",
        "print(dict1[\"lion\"])\n",
        "\n"
      ],
      "metadata": {
        "colab": {
          "base_uri": "https://localhost:8080/"
        },
        "id": "M6pBT4uYyzn9",
        "outputId": "a2a00d5b-6a9f-4633-e1e6-5daf0c874e29"
      },
      "execution_count": 12,
      "outputs": [
        {
          "output_type": "stream",
          "name": "stdout",
          "text": [
            "4\n",
            "4\n",
            "4\n",
            "4\n",
            "lion\n",
            "lion\n",
            "4\n"
          ]
        }
      ]
    },
    {
      "cell_type": "code",
      "source": [
        "list1 = [\"lion\", \"monkey\", \"dog\",\"fish\"]\n",
        "list1[1] = \"rabbit\"\n",
        "print(list1)\n"
      ],
      "metadata": {
        "colab": {
          "base_uri": "https://localhost:8080/"
        },
        "id": "1CZsZn7xzVIu",
        "outputId": "e09f6a59-b0e6-4d97-d683-ed53455b8230"
      },
      "execution_count": 14,
      "outputs": [
        {
          "output_type": "stream",
          "name": "stdout",
          "text": [
            "['lion', 'rabbit', 'dog', 'fish']\n"
          ]
        }
      ]
    },
    {
      "cell_type": "code",
      "source": [
        "#soluzione quesito n.5: Le tuple sono immutabili, quindi non possiamo modificare, aggiungere o rimuovere elementi.\n"
      ],
      "metadata": {
        "id": "cBrgBy3G4EyH"
      },
      "execution_count": null,
      "outputs": []
    },
    {
      "cell_type": "code",
      "source": [
        "list1 = [\"lion\", \"rabbit\", \"dog\",\"fish\"]\n",
        "list1.append(\"monkey\")\n",
        "print(list1)\n",
        "list1.remove(\"rabbit\")\n",
        "print(list1)"
      ],
      "metadata": {
        "colab": {
          "base_uri": "https://localhost:8080/"
        },
        "id": "OstuBe2t4gPD",
        "outputId": "61945e53-360c-4167-b768-98e08feeb13e"
      },
      "execution_count": 16,
      "outputs": [
        {
          "output_type": "stream",
          "name": "stdout",
          "text": [
            "['lion', 'rabbit', 'dog', 'fish', 'monkey']\n",
            "['lion', 'dog', 'fish', 'monkey']\n"
          ]
        }
      ]
    },
    {
      "cell_type": "code",
      "source": [
        "dict1 = {\"lion\":4, \"monkey\":2, \"dog\":4,\"fish\":2}\n",
        "dict1[\"fish\"] = 0\n",
        "print(dict1)"
      ],
      "metadata": {
        "colab": {
          "base_uri": "https://localhost:8080/"
        },
        "id": "kkUEUZ3o6EDZ",
        "outputId": "ed5c3e13-1853-4827-f623-9b6d44babeb0"
      },
      "execution_count": 18,
      "outputs": [
        {
          "output_type": "stream",
          "name": "stdout",
          "text": [
            "{'lion': 4, 'monkey': 2, 'dog': 4, 'fish': 0}\n"
          ]
        }
      ]
    }
  ]
}