{
  "nbformat": 4,
  "nbformat_minor": 0,
  "metadata": {
    "colab": {
      "provenance": [],
      "authorship_tag": "ABX9TyM4efAUHw/zvey1rupwaaKE",
      "include_colab_link": true
    },
    "kernelspec": {
      "name": "python3",
      "display_name": "Python 3"
    },
    "language_info": {
      "name": "python"
    }
  },
  "cells": [
    {
      "cell_type": "markdown",
      "metadata": {
        "id": "view-in-github",
        "colab_type": "text"
      },
      "source": [
        "<a href=\"https://colab.research.google.com/github/Rizzuto82/Esercizi-develhope/blob/main/es_loop_4.ipynb\" target=\"_parent\"><img src=\"https://colab.research.google.com/assets/colab-badge.svg\" alt=\"Open In Colab\"/></a>"
      ]
    },
    {
      "cell_type": "code",
      "execution_count": null,
      "metadata": {
        "id": "TjcpAEbVnLiw"
      },
      "outputs": [],
      "source": [
        "#iterate each elements of `list1`,`tuple1`,`set1` and print them out\n",
        "\n",
        "#for the `dict1` iterate all elements but only print the ones who are living on land in the form of `x lives in y`"
      ]
    },
    {
      "cell_type": "code",
      "source": [
        "list1 = [\"lion\", \"monkey\", \"dog\",\"fish\"]\n",
        "tuple1 = (\"lion\", \"monkey\", \"dog\",\"fish\")\n",
        "set1 = {\"lion\", \"monkey\", \"dog\",\"fish\"}\n",
        "dict1 = {\"lion\":\"land\", \"monkey\":\"land\", \"dog\":\"land\",\"fish\":\"water\"}\n",
        "\n",
        "for x in list1 :\n",
        "  print(x)\n",
        "\n",
        "for x in tuple1 :\n",
        "  print(x)\n",
        "\n",
        "for x in set1 :\n",
        "  print(x)"
      ],
      "metadata": {
        "colab": {
          "base_uri": "https://localhost:8080/"
        },
        "id": "YjqM1fkMng8v",
        "outputId": "180432b5-e9de-4f2f-ebfb-7a60e673b6c8"
      },
      "execution_count": 2,
      "outputs": [
        {
          "output_type": "stream",
          "name": "stdout",
          "text": [
            "lion\n",
            "monkey\n",
            "dog\n",
            "fish\n",
            "lion\n",
            "monkey\n",
            "dog\n",
            "fish\n",
            "monkey\n",
            "fish\n",
            "dog\n",
            "lion\n"
          ]
        }
      ]
    },
    {
      "cell_type": "code",
      "source": [
        "dict1 = {\"lion\":\"land\", \"monkey\":\"land\", \"dog\":\"land\",\"fish\":\"water\"}\n",
        "for v in dict1.values():\n",
        "  if v == \"land\" :\n",
        "   print(\"x lives in y\")"
      ],
      "metadata": {
        "colab": {
          "base_uri": "https://localhost:8080/"
        },
        "id": "iHLAwYx10lRY",
        "outputId": "6262df42-319e-41f0-b9cf-8cd7b5444021"
      },
      "execution_count": 5,
      "outputs": [
        {
          "output_type": "stream",
          "name": "stdout",
          "text": [
            "x lives in y\n",
            "x lives in y\n",
            "x lives in y\n"
          ]
        }
      ]
    }
  ]
}