{
  "nbformat": 4,
  "nbformat_minor": 0,
  "metadata": {
    "colab": {
      "provenance": [],
      "authorship_tag": "ABX9TyPw/1PpXS++TSOl/vA1xg3S",
      "include_colab_link": true
    },
    "kernelspec": {
      "name": "python3",
      "display_name": "Python 3"
    },
    "language_info": {
      "name": "python"
    }
  },
  "cells": [
    {
      "cell_type": "markdown",
      "metadata": {
        "id": "view-in-github",
        "colab_type": "text"
      },
      "source": [
        "<a href=\"https://colab.research.google.com/github/Rizzuto82/Esercizi-develhope/blob/main/eserciozio_corretto.ipynb\" target=\"_parent\"><img src=\"https://colab.research.google.com/assets/colab-badge.svg\" alt=\"Open In Colab\"/></a>"
      ]
    },
    {
      "cell_type": "code",
      "source": [
        "\n",
        "#check if number1 is greater than number 2 and print number1 is greater than number2\n",
        "#then check and if number 2 is greater than number 1 and print number2 is greater than number1\n",
        "#finally at the end if both conditions incorrect print number2 equals to number1"
      ],
      "metadata": {
        "id": "qqHMMBc3AoM5"
      },
      "execution_count": null,
      "outputs": []
    },
    {
      "cell_type": "code",
      "execution_count": 1,
      "metadata": {
        "colab": {
          "base_uri": "https://localhost:8080/"
        },
        "id": "Pn4hnecIAa-M",
        "outputId": "5aa8e32a-8b43-4398-f091-46823fa40f70"
      },
      "outputs": [
        {
          "output_type": "stream",
          "name": "stdout",
          "text": [
            "number2 equals to number1\n"
          ]
        }
      ],
      "source": [
        "\n",
        "number1 = 66\n",
        "number2 = 66\n",
        "if number1 > number2 :\n",
        "  print(\"number1 is greater than number2\")\n",
        "  if number1 < number2 :\n",
        "    print(\"number1 is less than number2\")\n",
        "if number2 > number1 :\n",
        "    print(\"number2 is greater than number1\")\n",
        "else:\n",
        "      print(\"number2 equals to number1\")"
      ]
    }
  ]
}