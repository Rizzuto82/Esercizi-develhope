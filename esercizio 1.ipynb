{
 "cells": [
  {
   "cell_type": "markdown",
   "metadata": {},
   "source": [
    "“Laura and tom went ON a long walk.” \n",
    "\n",
    "Lowercase the word “ON”\n",
    "Capitalize the name “tom”\n",
    "Uppercase the word “long”\n",
    "Change the letter “a” with “o” in the word “walk” using the appropriate python method.\n",
    "Now print the modified sentence.\n",
    "Use the appropriate python method to create separate strings out of each word in the new sentence."
   ]
  },
  {
   "cell_type": "code",
   "execution_count": 7,
   "metadata": {},
   "outputs": [
    {
     "name": "stdout",
     "output_type": "stream",
     "text": [
      "Laura and tom went ON a long walk\n"
     ]
    },
    {
     "data": {
      "text/plain": [
       "['Laura', 'and', 'tom', 'went', 'ON', 'a', 'long', 'walk']"
      ]
     },
     "execution_count": 7,
     "metadata": {},
     "output_type": "execute_result"
    }
   ],
   "source": [
    "a = \"Laura and tom went ON a long walk\"\n",
    "a.replace(\"ON\",\"on\").replace(\"tom\",\"Tom\").replace(\"long\",\"LONG\").replace(\"walk\",\"wolk\")\n",
    "print(a)\n",
    "a.split( )"
   ]
  },
  {
   "cell_type": "code",
   "execution_count": null,
   "metadata": {},
   "outputs": [],
   "source": []
  }
 ],
 "metadata": {
  "kernelspec": {
   "display_name": "base",
   "language": "python",
   "name": "python3"
  },
  "language_info": {
   "codemirror_mode": {
    "name": "ipython",
    "version": 3
   },
   "file_extension": ".py",
   "mimetype": "text/x-python",
   "name": "python",
   "nbconvert_exporter": "python",
   "pygments_lexer": "ipython3",
   "version": "3.11.3"
  },
  "orig_nbformat": 4
 },
 "nbformat": 4,
 "nbformat_minor": 2
}
