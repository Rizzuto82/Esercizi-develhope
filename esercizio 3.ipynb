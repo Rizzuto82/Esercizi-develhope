{
 "cells": [
  {
   "cell_type": "markdown",
   "metadata": {},
   "source": [
    "Creating variables for your name, age, and city of residence.\n",
    "Using string concatenation to display a sentence about yourself using the above variables.\n",
    "Modifying the variables to add a title (Mr. or Ms.) in front of your name.\n",
    "Using the string format method to display the same sentence as in exercise 2.\n",
    "Create a variable called \"name\" and assign a string value to it and “age\" and assign an integer value to it, and Create a variable called \"height\" and assign a floating point value to it, and Create a variable called \"is_student\" and assign a boolean value to it.\n",
    "Print the type of each of variables from exercise 5 using format method or f string."
   ]
  },
  {
   "cell_type": "code",
   "execution_count": 17,
   "metadata": {},
   "outputs": [
    {
     "name": "stdout",
     "output_type": "stream",
     "text": [
      "My name is Manuela, I'm 41 I live in Palermo\n"
     ]
    }
   ],
   "source": [
    "name = \"Manuela\"\n",
    "age = 41\n",
    "city = \"Palermo\"\n",
    "txt = \"My name is \" + name + \", I'm \" + str(age) + \" \"  \"I live in \" + city \n",
    "print(txt)\n",
    "\n"
   ]
  },
  {
   "cell_type": "code",
   "execution_count": 10,
   "metadata": {},
   "outputs": [
    {
     "name": "stdout",
     "output_type": "stream",
     "text": [
      "My name is Ms  Manuela I am 41 and live in Palermo\n"
     ]
    }
   ],
   "source": [
    "name =\"Ms \" +\" \"+ \"Manuela\" \n",
    "age = 41\n",
    "city = \"Palermo\"\n",
    "txt = \"My name is {} I am {} and live in {}\"\n",
    "print(txt.format(name,age,city))\n"
   ]
  },
  {
   "cell_type": "code",
   "execution_count": 19,
   "metadata": {},
   "outputs": [
    {
     "name": "stdout",
     "output_type": "stream",
     "text": [
      "My name is Manuela I am 41 and I am tall 1.72\n"
     ]
    }
   ],
   "source": [
    "name = \"Manuela\"\n",
    "age = 41\n",
    "height = 1.72\n",
    "is_student = True\n",
    "print(\"My name is {} I am {} and I am tall {}\".format(name,age,height))\n",
    "\n"
   ]
  },
  {
   "cell_type": "code",
   "execution_count": 21,
   "metadata": {},
   "outputs": [
    {
     "name": "stdout",
     "output_type": "stream",
     "text": [
      "<class 'str'>\n",
      "<class 'int'>\n",
      "<class 'float'>\n",
      "<class 'bool'>\n"
     ]
    }
   ],
   "source": [
    "print(type(name))\n",
    "print(type(age))\n",
    "print(type(height))\n",
    "print(type(is_student))"
   ]
  }
 ],
 "metadata": {
  "kernelspec": {
   "display_name": "base",
   "language": "python",
   "name": "python3"
  },
  "language_info": {
   "codemirror_mode": {
    "name": "ipython",
    "version": 3
   },
   "file_extension": ".py",
   "mimetype": "text/x-python",
   "name": "python",
   "nbconvert_exporter": "python",
   "pygments_lexer": "ipython3",
   "version": "3.11.3"
  },
  "orig_nbformat": 4
 },
 "nbformat": 4,
 "nbformat_minor": 2
}
