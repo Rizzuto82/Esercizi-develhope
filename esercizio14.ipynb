{
  "nbformat": 4,
  "nbformat_minor": 0,
  "metadata": {
    "colab": {
      "provenance": [],
      "authorship_tag": "ABX9TyPmQ3VyH/8gZkcsGgqBMx5y",
      "include_colab_link": true
    },
    "kernelspec": {
      "name": "python3",
      "display_name": "Python 3"
    },
    "language_info": {
      "name": "python"
    }
  },
  "cells": [
    {
      "cell_type": "markdown",
      "metadata": {
        "id": "view-in-github",
        "colab_type": "text"
      },
      "source": [
        "<a href=\"https://colab.research.google.com/github/Rizzuto82/Esercizi-develhope/blob/main/esercizio14.ipynb\" target=\"_parent\"><img src=\"https://colab.research.google.com/assets/colab-badge.svg\" alt=\"Open In Colab\"/></a>"
      ]
    },
    {
      "cell_type": "code",
      "execution_count": null,
      "metadata": {
        "id": "8UHGOTdQ39nY"
      },
      "outputs": [],
      "source": [
        "Given two variables a = 3 and b = 4, calculate the integer of dividing b/a.\n",
        "Given two variables a = 3 and b = 4, calculate the reminder of and integer from dividing b/a.\n",
        "Given a list numbers = [3, 5, 7, 9, 11], calculate and print the sum of all elements in the list.\n",
        "Given a list grades = [83, 85, 72, 63, 95], calculate and print the average grade.\n",
        "Given a list prices = [5, 10, 15, 20, 25], calculate and print the highest and lowest price."
      ]
    },
    {
      "cell_type": "code",
      "source": [
        "a = 3\n",
        "b = 4\n",
        "b//a\n"
      ],
      "metadata": {
        "colab": {
          "base_uri": "https://localhost:8080/"
        },
        "id": "L3dsBK7X4Drf",
        "outputId": "073255ec-c89c-4393-d0f9-d1587c68039f"
      },
      "execution_count": 3,
      "outputs": [
        {
          "output_type": "execute_result",
          "data": {
            "text/plain": [
              "1"
            ]
          },
          "metadata": {},
          "execution_count": 3
        }
      ]
    },
    {
      "cell_type": "code",
      "source": [],
      "metadata": {
        "id": "NXxiLY1z4cUp"
      },
      "execution_count": null,
      "outputs": []
    }
  ]
}