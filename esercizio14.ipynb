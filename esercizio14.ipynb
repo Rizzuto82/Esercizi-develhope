{
  "nbformat": 4,
  "nbformat_minor": 0,
  "metadata": {
    "colab": {
      "provenance": [],
      "authorship_tag": "ABX9TyOgUXeC2tcUicvoA8E9tvms",
      "include_colab_link": true
    },
    "kernelspec": {
      "name": "python3",
      "display_name": "Python 3"
    },
    "language_info": {
      "name": "python"
    }
  },
  "cells": [
    {
      "cell_type": "markdown",
      "metadata": {
        "id": "view-in-github",
        "colab_type": "text"
      },
      "source": [
        "<a href=\"https://colab.research.google.com/github/Rizzuto82/Esercizi-develhope/blob/main/esercizio14.ipynb\" target=\"_parent\"><img src=\"https://colab.research.google.com/assets/colab-badge.svg\" alt=\"Open In Colab\"/></a>"
      ]
    },
    {
      "cell_type": "code",
      "execution_count": null,
      "metadata": {
        "id": "8UHGOTdQ39nY"
      },
      "outputs": [],
      "source": [
        "Given two variables a = 3 and b = 4, calculate the integer of dividing b/a.\n",
        "Given two variables a = 3 and b = 4, calculate the reminder of and integer from dividing b/a.\n",
        "Given a list numbers = [3, 5, 7, 9, 11], calculate and print the sum of all elements in the list.\n",
        "Given a list grades = [83, 85, 72, 63, 95], calculate and print the average grade.\n",
        "Given a list prices = [5, 10, 15, 20, 25], calculate and print the highest and lowest price."
      ]
    },
    {
      "cell_type": "code",
      "source": [
        "a = 3\n",
        "b = 4\n",
        "b//a\n"
      ],
      "metadata": {
        "colab": {
          "base_uri": "https://localhost:8080/"
        },
        "id": "L3dsBK7X4Drf",
        "outputId": "073255ec-c89c-4393-d0f9-d1587c68039f"
      },
      "execution_count": 3,
      "outputs": [
        {
          "output_type": "execute_result",
          "data": {
            "text/plain": [
              "1"
            ]
          },
          "metadata": {},
          "execution_count": 3
        }
      ]
    },
    {
      "cell_type": "code",
      "source": [
        "a = 3\n",
        "b = 4\n",
        "b%a"
      ],
      "metadata": {
        "colab": {
          "base_uri": "https://localhost:8080/"
        },
        "id": "2eCuAnjm6FmV",
        "outputId": "b32a47ee-9628-43c1-87da-f1fbe78f6e74"
      },
      "execution_count": 4,
      "outputs": [
        {
          "output_type": "execute_result",
          "data": {
            "text/plain": [
              "1"
            ]
          },
          "metadata": {},
          "execution_count": 4
        }
      ]
    },
    {
      "cell_type": "code",
      "source": [
        "numbers = [3, 5, 7, 9, 11]\n",
        "print(sum(numbers))"
      ],
      "metadata": {
        "colab": {
          "base_uri": "https://localhost:8080/"
        },
        "id": "NXxiLY1z4cUp",
        "outputId": "d0bc520f-b698-40e1-af60-5a7aed98608c"
      },
      "execution_count": 5,
      "outputs": [
        {
          "output_type": "stream",
          "name": "stdout",
          "text": [
            "35\n"
          ]
        }
      ]
    },
    {
      "cell_type": "code",
      "source": [
        "grade = [83, 85, 72, 63, 95]\n",
        "print(sum(grade)/5)"
      ],
      "metadata": {
        "colab": {
          "base_uri": "https://localhost:8080/"
        },
        "id": "pDKxLJxV61Ok",
        "outputId": "0c476d29-76eb-428a-857f-77b9d35b11a7"
      },
      "execution_count": 9,
      "outputs": [
        {
          "output_type": "stream",
          "name": "stdout",
          "text": [
            "79.6\n"
          ]
        }
      ]
    },
    {
      "cell_type": "code",
      "source": [
        "prices = [5, 10, 15, 20, 25]\n",
        "x = min (prices)\n",
        "y = max (prices)\n",
        "print(x)\n",
        "print(y)\n",
        ""
      ],
      "metadata": {
        "colab": {
          "base_uri": "https://localhost:8080/"
        },
        "id": "6kgajn2A7556",
        "outputId": "e17b5d92-f157-467f-c0f9-6b2f7006fdb6"
      },
      "execution_count": 19,
      "outputs": [
        {
          "output_type": "stream",
          "name": "stdout",
          "text": [
            "5\n",
            "25\n"
          ]
        }
      ]
    }
  ]
}