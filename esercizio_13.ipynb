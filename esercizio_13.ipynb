{
  "nbformat": 4,
  "nbformat_minor": 0,
  "metadata": {
    "colab": {
      "provenance": [],
      "authorship_tag": "ABX9TyPrI4ifVmQBawYiLyNIvEnA",
      "include_colab_link": true
    },
    "kernelspec": {
      "name": "python3",
      "display_name": "Python 3"
    },
    "language_info": {
      "name": "python"
    }
  },
  "cells": [
    {
      "cell_type": "markdown",
      "metadata": {
        "id": "view-in-github",
        "colab_type": "text"
      },
      "source": [
        "<a href=\"https://colab.research.google.com/github/Rizzuto82/Esercizi-develhope/blob/main/esercizio_13.ipynb\" target=\"_parent\"><img src=\"https://colab.research.google.com/assets/colab-badge.svg\" alt=\"Open In Colab\"/></a>"
      ]
    },
    {
      "cell_type": "code",
      "execution_count": null,
      "metadata": {
        "id": "H9aFmEUb2FNm"
      },
      "outputs": [],
      "source": [
        "Given two variables a = 3 and b = 4, calculate and print the sum of a and b.\n",
        "Given two variables x = 7 and y = 2, calculate and print the difference of x and y.\n",
        "Given two variables p = 5 and q = 3, calculate and print the product of p and q.\n",
        "Given two variables m = 8 and n = 2, calculate and print the quotient of m divided by n and the remainder of m divided by n."
      ]
    },
    {
      "cell_type": "code",
      "source": [
        "a = 3\n",
        "b = 4\n",
        "print(a+b)"
      ],
      "metadata": {
        "colab": {
          "base_uri": "https://localhost:8080/"
        },
        "id": "jAHCTxpy2bVn",
        "outputId": "093ea8be-ac54-4db2-f117-333e6dc345fd"
      },
      "execution_count": 1,
      "outputs": [
        {
          "output_type": "stream",
          "name": "stdout",
          "text": [
            "7\n"
          ]
        }
      ]
    },
    {
      "cell_type": "code",
      "source": [
        "x = 7\n",
        "y = 2\n",
        "print(x-y)"
      ],
      "metadata": {
        "colab": {
          "base_uri": "https://localhost:8080/"
        },
        "id": "gd15P5cZ2q0-",
        "outputId": "32ea0922-db73-4fd7-fa7c-1e7107f81290"
      },
      "execution_count": 2,
      "outputs": [
        {
          "output_type": "stream",
          "name": "stdout",
          "text": [
            "5\n"
          ]
        }
      ]
    },
    {
      "cell_type": "code",
      "source": [
        "p = 5\n",
        "q = 3\n",
        "print(p*q)"
      ],
      "metadata": {
        "colab": {
          "base_uri": "https://localhost:8080/"
        },
        "id": "SrQoZ2PQ24dB",
        "outputId": "17eb96f0-e3dc-4e5d-d70e-c2888ebd8c07"
      },
      "execution_count": 3,
      "outputs": [
        {
          "output_type": "stream",
          "name": "stdout",
          "text": [
            "15\n"
          ]
        }
      ]
    },
    {
      "cell_type": "code",
      "source": [
        "m = 8\n",
        "n = 2\n",
        "print(8/2)\n",
        "print(8%2)"
      ],
      "metadata": {
        "colab": {
          "base_uri": "https://localhost:8080/"
        },
        "id": "_N4b8cFP3AwK",
        "outputId": "e496eac3-37ad-4f27-fb4f-f6a00ec5884f"
      },
      "execution_count": 6,
      "outputs": [
        {
          "output_type": "stream",
          "name": "stdout",
          "text": [
            "4.0\n",
            "0\n"
          ]
        }
      ]
    }
  ]
}