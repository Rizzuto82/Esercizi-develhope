{
  "nbformat": 4,
  "nbformat_minor": 0,
  "metadata": {
    "colab": {
      "provenance": [],
      "authorship_tag": "ABX9TyMbX64cL+uQq8eqmjahrh+X",
      "include_colab_link": true
    },
    "kernelspec": {
      "name": "python3",
      "display_name": "Python 3"
    },
    "language_info": {
      "name": "python"
    }
  },
  "cells": [
    {
      "cell_type": "markdown",
      "metadata": {
        "id": "view-in-github",
        "colab_type": "text"
      },
      "source": [
        "<a href=\"https://colab.research.google.com/github/Rizzuto82/Esercizi-develhope/blob/main/esercizio_18.ipynb\" target=\"_parent\"><img src=\"https://colab.research.google.com/assets/colab-badge.svg\" alt=\"Open In Colab\"/></a>"
      ]
    },
    {
      "cell_type": "code",
      "source": [
        "#Create a float variable float_num\n",
        "#Use the round function to round float_num to 2 decimal places\n",
        "#Store the result in a new variable rounded_num\n",
        "#Print the original float_num and rounded_num"
      ],
      "metadata": {
        "id": "BoyJPLRvEUSc"
      },
      "execution_count": null,
      "outputs": []
    },
    {
      "cell_type": "code",
      "source": [
        "float_num = 4.3\n",
        "round(float_num)\n",
        "rounded_num = 4\n",
        "print(float_num)\n",
        "print(rounded_num)"
      ],
      "metadata": {
        "colab": {
          "base_uri": "https://localhost:8080/"
        },
        "id": "--zRh_FSEa18",
        "outputId": "51cdc262-922b-469d-c960-890e78ea6715"
      },
      "execution_count": 50,
      "outputs": [
        {
          "output_type": "stream",
          "name": "stdout",
          "text": [
            "4.3\n",
            "4\n"
          ]
        }
      ]
    }
  ]
}