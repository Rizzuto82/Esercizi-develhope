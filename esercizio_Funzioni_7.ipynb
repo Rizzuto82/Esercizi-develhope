{
  "nbformat": 4,
  "nbformat_minor": 0,
  "metadata": {
    "colab": {
      "provenance": [],
      "authorship_tag": "ABX9TyPdr1fYKU5I8uK1CsC60r9x",
      "include_colab_link": true
    },
    "kernelspec": {
      "name": "python3",
      "display_name": "Python 3"
    },
    "language_info": {
      "name": "python"
    }
  },
  "cells": [
    {
      "cell_type": "markdown",
      "metadata": {
        "id": "view-in-github",
        "colab_type": "text"
      },
      "source": [
        "<a href=\"https://colab.research.google.com/github/Rizzuto82/Esercizi-develhope/blob/main/esercizio_Funzioni_7.ipynb\" target=\"_parent\"><img src=\"https://colab.research.google.com/assets/colab-badge.svg\" alt=\"Open In Colab\"/></a>"
      ]
    },
    {
      "cell_type": "code",
      "source": [
        "#Create a lambda function that returns 2nd power of given number if its even\n",
        "#and run it on the given list"
      ],
      "metadata": {
        "id": "2C9svUaL7ES9"
      },
      "execution_count": null,
      "outputs": []
    },
    {
      "cell_type": "code",
      "source": [
        "x = lambda a :[y*y if y%2 == 0 else y for y in a]\n",
        "print(x([66,85,36,74,5,44]))\n"
      ],
      "metadata": {
        "colab": {
          "base_uri": "https://localhost:8080/"
        },
        "id": "jNdMP_rZ7QiZ",
        "outputId": "89945403-c050-4ad4-d85e-04a63c4939c9"
      },
      "execution_count": 1,
      "outputs": [
        {
          "output_type": "stream",
          "name": "stdout",
          "text": [
            "[4356, 85, 1296, 5476, 5, 1936]\n"
          ]
        }
      ]
    },
    {
      "cell_type": "code",
      "source": [
        "# Gaetano questo esercizio l'ho svolto in gruppo con i ragazzi."
      ],
      "metadata": {
        "id": "37RPso1vQwSs"
      },
      "execution_count": null,
      "outputs": []
    }
  ]
}