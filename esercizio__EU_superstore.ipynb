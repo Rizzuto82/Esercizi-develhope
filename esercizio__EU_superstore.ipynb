{
  "cells": [
    {
      "cell_type": "markdown",
      "metadata": {
        "id": "view-in-github",
        "colab_type": "text"
      },
      "source": [
        "<a href=\"https://colab.research.google.com/github/Rizzuto82/Esercizi-develhope/blob/main/esercizio__EU_superstore.ipynb\" target=\"_parent\"><img src=\"https://colab.research.google.com/assets/colab-badge.svg\" alt=\"Open In Colab\"/></a>"
      ]
    },
    {
      "cell_type": "code",
      "source": [
        "!pip install pyspark"
      ],
      "metadata": {
        "id": "lvIHsJ7sXi0s"
      },
      "id": "lvIHsJ7sXi0s",
      "execution_count": null,
      "outputs": []
    },
    {
      "cell_type": "code",
      "execution_count": null,
      "id": "9d867484",
      "metadata": {
        "id": "9d867484"
      },
      "outputs": [],
      "source": [
        "import pyspark\n",
        "from pyspark.sql import SparkSession\n",
        "from pyspark.sql.functions import when\n",
        "import pyspark.sql.functions as func"
      ]
    },
    {
      "cell_type": "code",
      "execution_count": null,
      "id": "18cf8dbd",
      "metadata": {
        "id": "18cf8dbd"
      },
      "outputs": [],
      "source": [
        "spark = SparkSession.builder.master(\"local[*]\").appName(\"Datamanipulation\").getOrCreate()"
      ]
    },
    {
      "cell_type": "code",
      "execution_count": null,
      "id": "9e64796c",
      "metadata": {
        "id": "9e64796c"
      },
      "outputs": [],
      "source": [
        "spark"
      ]
    },
    {
      "cell_type": "code",
      "execution_count": null,
      "id": "1cb29770",
      "metadata": {
        "id": "1cb29770"
      },
      "outputs": [],
      "source": [
        "# read our data - lives in a csv file\n",
        "\n",
        "df = spark.read.option(\"header\",\"true\").csv(\"/content/Sample - EU Superstore.csv\",inferSchema = True)"
      ]
    },
    {
      "cell_type": "code",
      "source": [
        "df.printSchema()"
      ],
      "metadata": {
        "id": "WOpZicr_aSvJ"
      },
      "id": "WOpZicr_aSvJ",
      "execution_count": null,
      "outputs": []
    },
    {
      "cell_type": "code",
      "source": [
        "df.show()"
      ],
      "metadata": {
        "id": "_87EL0hxdf58"
      },
      "id": "_87EL0hxdf58",
      "execution_count": null,
      "outputs": []
    },
    {
      "cell_type": "code",
      "execution_count": null,
      "id": "6c800030",
      "metadata": {
        "id": "6c800030",
        "colab": {
          "base_uri": "https://localhost:8080/"
        },
        "outputId": "c13c4592-66bc-447a-ee81-f3c5f10ed08a"
      },
      "outputs": [
        {
          "output_type": "execute_result",
          "data": {
            "text/plain": [
              "2827"
            ]
          },
          "metadata": {},
          "execution_count": 95
        }
      ],
      "source": [
        "# how many rows of the EU Superstore dataset have the country being France\n",
        "df.filter(df[\"Country\"] == \"France\").count()"
      ]
    },
    {
      "cell_type": "code",
      "execution_count": null,
      "id": "648e5f8a",
      "metadata": {
        "id": "648e5f8a",
        "colab": {
          "base_uri": "https://localhost:8080/"
        },
        "outputId": "528264c0-6186-4ce1-c7b8-d4e3179306e4"
      },
      "outputs": [
        {
          "output_type": "execute_result",
          "data": {
            "text/plain": [
              "2277"
            ]
          },
          "metadata": {},
          "execution_count": 28
        }
      ],
      "source": [
        "# of those, how many are profitable?\n",
        "df.filter((df[\"Country\"] == \"France\") & (df[\"Profit\"] > 0)).count()\n"
      ]
    },
    {
      "cell_type": "code",
      "execution_count": null,
      "id": "ca611b93",
      "metadata": {
        "id": "ca611b93",
        "colab": {
          "base_uri": "https://localhost:8080/"
        },
        "outputId": "1d6432b7-5ea0-46f3-d686-770305cff74d"
      },
      "outputs": [
        {
          "output_type": "execute_result",
          "data": {
            "text/plain": [
              "14"
            ]
          },
          "metadata": {},
          "execution_count": 96
        }
      ],
      "source": [
        "# how many different discount backets exist? what are they?\n",
        "discount_backets = df.select(\"Discount\").distinct().count()\n",
        "discount_backets"
      ]
    },
    {
      "cell_type": "code",
      "execution_count": null,
      "id": "b2e1f9f0",
      "metadata": {
        "id": "b2e1f9f0"
      },
      "outputs": [],
      "source": [
        "# let's see the total profit by discount bracket, make sure they are ordered by   (raggruppa per sconto e usa sconto su profitto)\n",
        "dff = df.groupBy('Discount').agg({'Profit' : 'sum'}).orderBy('Discount', ascending=False)"
      ]
    },
    {
      "cell_type": "code",
      "execution_count": null,
      "id": "d1d76050",
      "metadata": {
        "id": "d1d76050"
      },
      "outputs": [],
      "source": [
        "# what is the value after which we should stop offering discount?  qual è il valore più grande d sconto che porta profitto positivo\n",
        "df3 = df2.filter(df2['sum(Profit)'] > 0)\n",
        "df3.show()\n"
      ]
    },
    {
      "cell_type": "code",
      "execution_count": null,
      "id": "aae94ee1",
      "metadata": {
        "id": "aae94ee1"
      },
      "outputs": [],
      "source": [
        "# who are the top 5 most profitable customers\n",
        "top_5_customer = df.groupBy(\"Customer Name\").agg({\"Profit\":\"sum\"}).orderBy(\"sum(Profit)\",ascending=False).limit(5)\n",
        "top_5_customer.show()"
      ]
    },
    {
      "cell_type": "code",
      "execution_count": null,
      "id": "277c465a",
      "metadata": {
        "id": "277c465a"
      },
      "outputs": [],
      "source": [
        "# get all the rows belonging to those 5 customer names: hint, you may need the collect method - how many rows are they?\n",
        " #seleziona colonna costumer applica collect, indicizza primi 5,filtra la colonna d customer  isin ...costumer count\n",
        "\n",
        "df4 = df.groupBy('Customer Name').agg({'Profit':'sum'}).orderBy('sum(Profit)', ascending=False)\n",
        "df4.show(5)\n"
      ]
    },
    {
      "cell_type": "code",
      "source": [
        "top5_rows = df4.collect()\n",
        "top5_customer_names = [row['Customer Name'] for row in top5_rows]\n",
        "rows_for_top5_customers = df.filter(df['Customer Name'].isin(top5_customer_names))\n",
        "print({rows_for_top5_customers.count()})"
      ],
      "metadata": {
        "id": "zCZDN6hf731Y"
      },
      "id": "zCZDN6hf731Y",
      "execution_count": null,
      "outputs": []
    },
    {
      "cell_type": "code",
      "execution_count": null,
      "id": "8d0fc034",
      "metadata": {
        "id": "8d0fc034"
      },
      "outputs": [],
      "source": [
        "# create a new column which is the value of the sale were there not discount applied. Hint: new colonna = sales/(1-d)\n",
        "no_discount = df.filter(df[\"Discount\"]==0).count()"
      ]
    },
    {
      "cell_type": "code",
      "source": [
        "df = df.withColumn(\"Original\", df[\"Sales\"]/no_discount)\n",
        "df.show()"
      ],
      "metadata": {
        "id": "n6lBLaIJYAul"
      },
      "id": "n6lBLaIJYAul",
      "execution_count": null,
      "outputs": []
    },
    {
      "cell_type": "code",
      "execution_count": null,
      "id": "ba0f9aa9",
      "metadata": {
        "id": "ba0f9aa9",
        "colab": {
          "base_uri": "https://localhost:8080/"
        },
        "outputId": "f1566fa1-f154-40fa-fa1b-4283bf30ee38"
      },
      "outputs": [
        {
          "output_type": "stream",
          "name": "stdout",
          "text": [
            "+------+---------------+----------+----------+--------------+-----------+----------------+-----------+-------------+--------------------+--------------+-------+---------------+---------------+------------+--------------------+--------+--------+--------+-------+------------------+\n",
            "|Row ID|       Order ID|Order Date| Ship Date|     Ship Mode|Customer ID|   Customer Name|    Segment|         City|               State|       Country| Region|     Product ID|       Category|Sub-Category|        Product Name|   Sales|Quantity|Discount| Profit|        difference|\n",
            "+------+---------------+----------+----------+--------------+-----------+----------------+-----------+-------------+--------------------+--------------+-------+---------------+---------------+------------+--------------------+--------+--------+--------+-------+------------------+\n",
            "|     1|ES-2017-1311038|07/02/2017|11/02/2017|Standard Class|   AS-10045|  Aaron Smayling|  Corporate|        Leeds|             England|United Kingdom|  North|OFF-ST-10000988|Office Supplies|     Storage|Fellowes Folders,...|    79.2|       3|     0.0|   39.6|              79.2|\n",
            "|     2|ES-2017-1311038|07/02/2017|11/02/2017|Standard Class|   AS-10045|  Aaron Smayling|  Corporate|        Leeds|             England|United Kingdom|  North|TEC-AC-10004144|     Technology| Accessories|SanDisk Numeric K...|  388.92|       7|     0.0|    0.0|            388.92|\n",
            "|     3|ES-2017-1311038|07/02/2017|11/02/2017|Standard Class|   AS-10045|  Aaron Smayling|  Corporate|        Leeds|             England|United Kingdom|  North|OFF-LA-10001915|Office Supplies|      Labels|Avery Legal Exhib...|   35.19|       3|     0.0|  16.11|             35.19|\n",
            "|     4|ES-2017-1311038|07/02/2017|11/02/2017|Standard Class|   AS-10045|  Aaron Smayling|  Corporate|        Leeds|             England|United Kingdom|  North|OFF-ST-10004550|Office Supplies|     Storage|Fellowes Folders,...|   50.94|       2|     0.0|   13.2|             50.94|\n",
            "|     5|ES-2017-1311038|07/02/2017|11/02/2017|Standard Class|   AS-10045|  Aaron Smayling|  Corporate|        Leeds|             England|United Kingdom|  North|TEC-AC-10004068|     Technology| Accessories|Memorex Memory Ca...|  307.44|       3|     0.0|  73.71|            307.44|\n",
            "|     6|ES-2017-1311038|07/02/2017|11/02/2017|Standard Class|   AS-10045|  Aaron Smayling|  Corporate|        Leeds|             England|United Kingdom|  North|OFF-ST-10002271|Office Supplies|     Storage|Rogers Shelving, ...|   122.4|       2|     0.0|  37.92|             122.4|\n",
            "|     7|ES-2017-1311038|07/02/2017|11/02/2017|Standard Class|   AS-10045|  Aaron Smayling|  Corporate|        Leeds|             England|United Kingdom|  North|TEC-PH-10003963|     Technology|      Phones|Apple Signal Boos...|  413.82|       3|     0.0|  20.61|            413.82|\n",
            "|     8|ES-2015-5113958|02/08/2015|07/08/2015|  Second Class|   EB-13840|   Ellis Ballard|  Corporate|West Bromwich|             England|United Kingdom|  North|TEC-CO-10004325|     Technology|     Copiers|Canon Personal Co...|  428.22|       3|     0.0| 192.69|            428.22|\n",
            "|     9|ES-2015-5113958|02/08/2015|07/08/2015|  Second Class|   EB-13840|   Ellis Ballard|  Corporate|West Bromwich|             England|United Kingdom|  North|OFF-AP-10004512|Office Supplies|  Appliances|   Hoover Stove, Red| 3979.29|       7|     0.0|1989.54|           3979.29|\n",
            "|    10|ES-2015-5113958|02/08/2015|07/08/2015|  Second Class|   EB-13840|   Ellis Ballard|  Corporate|West Bromwich|             England|United Kingdom|  North|OFF-FA-10002393|Office Supplies|   Fasteners|Accos Push Pins, ...|   43.56|       3|     0.0|   12.6|             43.56|\n",
            "|    11|ES-2015-2510515|20/06/2015|20/06/2015|      Same Day|   LH-17155|Logan Haushalter|   Consumer|   Le Bouscat|Aquitaine-Limousi...|        France|Central|OFF-LA-10002805|Office Supplies|      Labels|Hon Color Coded L...|   25.26|       2|     0.0|   0.48|             25.26|\n",
            "|    12|ES-2015-2510515|20/06/2015|20/06/2015|      Same Day|   LH-17155|Logan Haushalter|   Consumer|   Le Bouscat|Aquitaine-Limousi...|        France|Central|OFF-AP-10002330|Office Supplies|  Appliances|Hamilton Beach St...|2443.905|       5|     0.1|760.305|2443.8050000000003|\n",
            "|    13|ES-2015-2510515|20/06/2015|20/06/2015|      Same Day|   LH-17155|Logan Haushalter|   Consumer|   Le Bouscat|Aquitaine-Limousi...|        France|Central|OFF-AR-10000505|Office Supplies|         Art|Binney & Smith Pe...|   12.21|       1|     0.0|    0.0|             12.21|\n",
            "|    14|ES-2015-2510515|20/06/2015|20/06/2015|      Same Day|   LH-17155|Logan Haushalter|   Consumer|   Le Bouscat|Aquitaine-Limousi...|        France|Central|TEC-PH-10002898|     Technology|      Phones|Samsung Smart Pho...|2167.296|       4|    0.15|790.416|2167.1459999999997|\n",
            "|    15|ES-2015-2510515|20/06/2015|20/06/2015|      Same Day|   LH-17155|Logan Haushalter|   Consumer|   Le Bouscat|Aquitaine-Limousi...|        France|Central|OFF-ST-10001413|Office Supplies|     Storage|Rogers Folders, Blue| 138.105|       5|     0.1|-12.345|           138.005|\n",
            "|    16|ES-2016-4380115|16/02/2016|20/02/2016|Standard Class|   KC-16540| Kelly Collister|   Consumer|   Strasbourg|Alsace-Champagne-...|        France|Central|OFF-ST-10003931|Office Supplies|     Storage|Smead Trays, Wire...| 128.385|       3|     0.1|  4.275|           128.285|\n",
            "|    17|ES-2016-4380115|16/02/2016|20/02/2016|Standard Class|   KC-16540| Kelly Collister|   Consumer|   Strasbourg|Alsace-Champagne-...|        France|Central|TEC-AC-10004269|     Technology| Accessories|Belkin Memory Car...|  690.12|       6|     0.0|    0.0|            690.12|\n",
            "|    18|ES-2016-4380115|16/02/2016|20/02/2016|Standard Class|   KC-16540| Kelly Collister|   Consumer|   Strasbourg|Alsace-Champagne-...|        France|Central|OFF-LA-10001676|Office Supplies|      Labels|Hon Removable Lab...|    8.16|       1|     0.0|   1.14|              8.16|\n",
            "|    19|ES-2017-2573330|03/11/2017|08/11/2017|Standard Class|   BF-11170|      Ben Ferrer|Home Office|         Unna|North Rhine-Westp...|       Germany|Central|TEC-MA-10000811|     Technology|    Machines|Okidata Phone, Du...|  347.88|       4|     0.0|  76.44|            347.88|\n",
            "|    20|ES-2017-2573330|03/11/2017|08/11/2017|Standard Class|   BF-11170|      Ben Ferrer|Home Office|         Unna|North Rhine-Westp...|       Germany|Central|OFF-ST-10000648|Office Supplies|     Storage|Eldon File Cart, ...| 575.505|       5|     0.1| 12.705|           575.405|\n",
            "+------+---------------+----------+----------+--------------+-----------+----------------+-----------+-------------+--------------------+--------------+-------+---------------+---------------+------------+--------------------+--------+--------+--------+-------+------------------+\n",
            "only showing top 20 rows\n",
            "\n"
          ]
        }
      ],
      "source": [
        "# calculate the difference between sales and discount value\n",
        "df=df.withColumn(\"difference\", df[\"Sales\"] - df[\"Discount\"])\n",
        "df.show()"
      ]
    },
    {
      "cell_type": "code",
      "execution_count": null,
      "id": "8e810f4f",
      "metadata": {
        "id": "8e810f4f"
      },
      "outputs": [],
      "source": [
        "# how much money did we not gain due to the discounts - per discount bracket? raggruppando x discount quanto abbiamo perso?\n"
      ]
    },
    {
      "cell_type": "code",
      "execution_count": null,
      "id": "76aca9f2",
      "metadata": {
        "id": "76aca9f2"
      },
      "outputs": [],
      "source": [
        "# find the discount bracket which made us not gain the most (dynamically)\n",
        "\n"
      ]
    },
    {
      "cell_type": "code",
      "execution_count": null,
      "id": "0aa9b685",
      "metadata": {
        "id": "0aa9b685"
      },
      "outputs": [],
      "source": [
        "# what would have been the total profit if we removed all orders from that discount group?\n"
      ]
    },
    {
      "cell_type": "code",
      "execution_count": null,
      "id": "fca95e60",
      "metadata": {
        "id": "fca95e60"
      },
      "outputs": [],
      "source": [
        "#how much more (or less) profit is that?\n",
        "\n"
      ]
    },
    {
      "cell_type": "code",
      "execution_count": null,
      "id": "0fb49200",
      "metadata": {
        "id": "0fb49200"
      },
      "outputs": [],
      "source": [
        "# create a temporary table for our superstore table in sql\n",
        "from pyspark.sql.types import StringType, StructField, IntegerType, StructType\n"
      ]
    },
    {
      "cell_type": "code",
      "source": [
        "df = spark.read.csv(\"/content/Sample - EU Superstore.csv\", header=True, inferSchema=True)\n"
      ],
      "metadata": {
        "id": "iIq3jFXQohjr"
      },
      "id": "iIq3jFXQohjr",
      "execution_count": null,
      "outputs": []
    },
    {
      "cell_type": "code",
      "source": [
        "df.createOrReplaceTempView(\"TABELLA\")"
      ],
      "metadata": {
        "id": "Zx7pDPpurzU6"
      },
      "id": "Zx7pDPpurzU6",
      "execution_count": null,
      "outputs": []
    },
    {
      "cell_type": "code",
      "source": [
        "df.show()"
      ],
      "metadata": {
        "id": "wvaf80t7tsuN"
      },
      "id": "wvaf80t7tsuN",
      "execution_count": null,
      "outputs": []
    },
    {
      "cell_type": "code",
      "execution_count": null,
      "id": "a23e0bca",
      "metadata": {
        "id": "a23e0bca",
        "colab": {
          "base_uri": "https://localhost:8080/"
        },
        "outputId": "07a3b358-b5f6-43ee-ae27-77ff496c9797"
      },
      "outputs": [
        {
          "output_type": "execute_result",
          "data": {
            "text/plain": [
              "10000"
            ]
          },
          "metadata": {},
          "execution_count": 72
        }
      ],
      "source": [
        "# use an SQL query to count the number of rows\n",
        "spark.sql(\"SELECT * FROM TABELLA\").count()\n"
      ]
    },
    {
      "cell_type": "code",
      "execution_count": null,
      "id": "8e2cf9f2",
      "metadata": {
        "id": "8e2cf9f2"
      },
      "outputs": [],
      "source": [
        "# Use an SQL query to calculate the profit ratio for each country: hint, ratio is sum(profit)/sum(sales)\n",
        "spark.sql(\"SELECT"
      ]
    },
    {
      "cell_type": "code",
      "execution_count": null,
      "id": "f8cdd772",
      "metadata": {
        "id": "f8cdd772"
      },
      "outputs": [],
      "source": [
        "# is the country with the largest profit ratio, the country with the largest profit?\n",
        "\n"
      ]
    }
  ],
  "metadata": {
    "kernelspec": {
      "display_name": "Python 3 (ipykernel)",
      "language": "python",
      "name": "python3"
    },
    "language_info": {
      "codemirror_mode": {
        "name": "ipython",
        "version": 3
      },
      "file_extension": ".py",
      "mimetype": "text/x-python",
      "name": "python",
      "nbconvert_exporter": "python",
      "pygments_lexer": "ipython3",
      "version": "3.12.0"
    },
    "colab": {
      "provenance": [],
      "include_colab_link": true
    }
  },
  "nbformat": 4,
  "nbformat_minor": 5
}