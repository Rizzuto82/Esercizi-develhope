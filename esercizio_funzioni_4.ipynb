{
  "nbformat": 4,
  "nbformat_minor": 0,
  "metadata": {
    "colab": {
      "provenance": [],
      "authorship_tag": "ABX9TyOaoKonoapQzxLowh6AL8CX",
      "include_colab_link": true
    },
    "kernelspec": {
      "name": "python3",
      "display_name": "Python 3"
    },
    "language_info": {
      "name": "python"
    }
  },
  "cells": [
    {
      "cell_type": "markdown",
      "metadata": {
        "id": "view-in-github",
        "colab_type": "text"
      },
      "source": [
        "<a href=\"https://colab.research.google.com/github/Rizzuto82/Esercizi-develhope/blob/main/esercizio_funzioni_4.ipynb\" target=\"_parent\"><img src=\"https://colab.research.google.com/assets/colab-badge.svg\" alt=\"Open In Colab\"/></a>"
      ]
    },
    {
      "cell_type": "code",
      "execution_count": null,
      "metadata": {
        "id": "e7b16vajCmjh"
      },
      "outputs": [],
      "source": [
        "#Now create a function for John Doe and his family that greets every one in the family.\n",
        "#Since it will usually John Doe the name and surname parameter must be defaulted\n",
        "#and when someone else comes it has to greet the new comer with name surname parameters which were overwritten. Make it possible.\n",
        "#The function have to print \"Hello John Doe\" where John and Doe is parametric\n",
        "#Greet each our John first then the people in the list with for loop and the function\n",
        "#What you have to use\n",
        "#for loop\n",
        "#function\n",
        "#string operation\n",
        "#list index"
      ]
    },
    {
      "cell_type": "code",
      "source": [
        "family = [(\"John\", \"Doe\"), (\"Tristram\", \"Mcbride\"), (\"Baldwin\", \"Preston\"), (\"Wally\", \"Collins\")]\n",
        "\n",
        "def hello_familiy(name = 'John', surname = 'Doe'):\n",
        "    return print(f'hello {name} {surname}')\n",
        "\n",
        "for member in family:\n",
        "    hello_familiy(member[0], member[1])"
      ],
      "metadata": {
        "colab": {
          "base_uri": "https://localhost:8080/"
        },
        "id": "QvMKrtsqWfes",
        "outputId": "62e5dc0d-40f7-4590-9a4b-4952bc535385"
      },
      "execution_count": 3,
      "outputs": [
        {
          "output_type": "stream",
          "name": "stdout",
          "text": [
            "hello John Doe\n",
            "hello Tristram Mcbride\n",
            "hello Baldwin Preston\n",
            "hello Wally Collins\n"
          ]
        }
      ]
    }
  ]
}