{
  "nbformat": 4,
  "nbformat_minor": 0,
  "metadata": {
    "colab": {
      "provenance": [],
      "authorship_tag": "ABX9TyPBqD2wy4h+YouAaiwaA8FI",
      "include_colab_link": true
    },
    "kernelspec": {
      "name": "python3",
      "display_name": "Python 3"
    },
    "language_info": {
      "name": "python"
    }
  },
  "cells": [
    {
      "cell_type": "markdown",
      "metadata": {
        "id": "view-in-github",
        "colab_type": "text"
      },
      "source": [
        "<a href=\"https://colab.research.google.com/github/Rizzuto82/Esercizi-develhope/blob/main/esercizio_funzioni_5.ipynb\" target=\"_parent\"><img src=\"https://colab.research.google.com/assets/colab-badge.svg\" alt=\"Open In Colab\"/></a>"
      ]
    },
    {
      "cell_type": "code",
      "execution_count": null,
      "metadata": {
        "id": "mzpZIIPqmgen"
      },
      "outputs": [],
      "source": [
        "#Import random function\n",
        "#Create a function random_list_summer creates n elemented list with min value = -100 max value = 100\n",
        "#it has to print the list first and sum all the elements of it() default element number is 15 )\n",
        "#Don't forget to call the function"
      ]
    },
    {
      "cell_type": "code",
      "source": [
        "import random\n",
        "lista1 = [random.randint(-100,100) for _ in range(0,15)]\n",
        "\n",
        "def random_list_summer(lista):\n",
        "    lista2=[]\n",
        "    for i in range(0,len(lista)):\n",
        "       lista2.append(lista[i])\n",
        "\n",
        "       return lista2\n",
        "\n",
        "random_list_summer(lista1)\n",
        "print(random_list_summer(lista1))\n",
        "\n",
        ""
      ],
      "metadata": {
        "colab": {
          "base_uri": "https://localhost:8080/"
        },
        "id": "IiRdcusvmv0S",
        "outputId": "18b5650d-be95-4329-c0c0-8f1c3018ed8b"
      },
      "execution_count": 15,
      "outputs": [
        {
          "output_type": "stream",
          "name": "stdout",
          "text": [
            "[60]\n"
          ]
        }
      ]
    },
    {
      "cell_type": "code",
      "source": [
        "#  Gaetano questo esercizio non riesco proprio a farlo, è svolto a metà perchè non capisco dove sbaglio e non so farlo...purtroppo mi rendo conto che ho problemi con le funzioni..."
      ],
      "metadata": {
        "id": "kDmzGNEYoicd"
      },
      "execution_count": null,
      "outputs": []
    }
  ]
}