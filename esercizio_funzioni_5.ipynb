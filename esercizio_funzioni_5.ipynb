{
  "nbformat": 4,
  "nbformat_minor": 0,
  "metadata": {
    "colab": {
      "provenance": [],
      "authorship_tag": "ABX9TyPS0haOF6bHOLA9mvnwhjqh",
      "include_colab_link": true
    },
    "kernelspec": {
      "name": "python3",
      "display_name": "Python 3"
    },
    "language_info": {
      "name": "python"
    }
  },
  "cells": [
    {
      "cell_type": "markdown",
      "metadata": {
        "id": "view-in-github",
        "colab_type": "text"
      },
      "source": [
        "<a href=\"https://colab.research.google.com/github/Rizzuto82/Esercizi-develhope/blob/main/esercizio_funzioni_5.ipynb\" target=\"_parent\"><img src=\"https://colab.research.google.com/assets/colab-badge.svg\" alt=\"Open In Colab\"/></a>"
      ]
    },
    {
      "cell_type": "code",
      "execution_count": null,
      "metadata": {
        "id": "mzpZIIPqmgen"
      },
      "outputs": [],
      "source": [
        "#Import random function\n",
        "#Create a function random_list_summer creates n elemented list with min value = -100 max value = 100\n",
        "#it has to print the list first and sum all the elements of it() default element number is 15 )\n",
        "#Don't forget to call the function"
      ]
    },
    {
      "cell_type": "code",
      "source": [
        "import random\n",
        "lista1 = [random.randint(-100,100) for _ in range(0,15)]\n",
        "\n",
        "def random_list_summer(lista):\n",
        "    print(lista)\n",
        "    return sum(lista)\n",
        "\n",
        "print(random_list_summer(lista1))\n"
      ],
      "metadata": {
        "colab": {
          "base_uri": "https://localhost:8080/"
        },
        "id": "IiRdcusvmv0S",
        "outputId": "0acbe03b-c20e-40dc-da3f-df0ce480b882"
      },
      "execution_count": 26,
      "outputs": [
        {
          "output_type": "stream",
          "name": "stdout",
          "text": [
            "[-59, -13, -39, -47, 97, 32, -23, 52, 49, -1, 88, 57, -28, -42, 45]\n",
            "168\n"
          ]
        }
      ]
    }
  ]
}