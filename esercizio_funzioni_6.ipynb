{
  "nbformat": 4,
  "nbformat_minor": 0,
  "metadata": {
    "colab": {
      "provenance": [],
      "authorship_tag": "ABX9TyPOLNtG2RaJjpMCgVwm9SE/",
      "include_colab_link": true
    },
    "kernelspec": {
      "name": "python3",
      "display_name": "Python 3"
    },
    "language_info": {
      "name": "python"
    }
  },
  "cells": [
    {
      "cell_type": "markdown",
      "metadata": {
        "id": "view-in-github",
        "colab_type": "text"
      },
      "source": [
        "<a href=\"https://colab.research.google.com/github/Rizzuto82/Esercizi-develhope/blob/main/esercizio_funzioni_6.ipynb\" target=\"_parent\"><img src=\"https://colab.research.google.com/assets/colab-badge.svg\" alt=\"Open In Colab\"/></a>"
      ]
    },
    {
      "cell_type": "code",
      "source": [
        "# Implement Fibonacci sequence as recursive function and print first 5 elements."
      ],
      "metadata": {
        "id": "nPfUFRSv_YmW"
      },
      "execution_count": null,
      "outputs": []
    },
    {
      "cell_type": "code",
      "source": [
        "def rec_fibonacci (n):\n",
        "  if n <= 1:\n",
        "   return n\n",
        "  else:\n",
        "    return (rec_fibonacci(n-1)+ rec_fibonacci(n-2))\n",
        "\n",
        "cont = 5\n",
        "\n",
        "if cont <= 0:\n",
        "  print(\"inserisci numero\")\n",
        "else:\n",
        "     for i in range(cont):\n",
        "      print(rec_fibonacci(i))"
      ],
      "metadata": {
        "colab": {
          "base_uri": "https://localhost:8080/"
        },
        "id": "m2M8S-NGaArZ",
        "outputId": "4cf1eae8-fb6c-48e1-be85-9402e4ef3c69"
      },
      "execution_count": 12,
      "outputs": [
        {
          "output_type": "stream",
          "name": "stdout",
          "text": [
            "0\n",
            "1\n",
            "1\n",
            "2\n",
            "3\n"
          ]
        }
      ]
    }
  ]
}