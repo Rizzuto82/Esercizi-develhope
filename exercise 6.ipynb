{
 "cells": [
  {
   "cell_type": "markdown",
   "metadata": {},
   "source": [
    "Scrivi un programma Pandas per trovare i primi 5 paesi con le più alte porzioni di birra e le più alte porzioni di alcolici dal set di dati sul consumo mondiale di alcol. Recupera i nomi dei paesi, le porzioni di birra, le porzioni di alcolici e la regione corrispondente per questi 5 paesi principali."
   ]
  },
  {
   "cell_type": "code",
   "execution_count": 44,
   "metadata": {},
   "outputs": [
    {
     "name": "stdout",
     "output_type": "stream",
     "text": [
      "                 country  beer_servings  spirit_servings  wine_servings  \\\n",
      "0            Afghanistan            0.0              0.0            0.0   \n",
      "1                Albania           89.0            132.0           54.0   \n",
      "2                Algeria           25.0              0.0           14.0   \n",
      "3                 Angola          217.0             57.0           45.0   \n",
      "4    Antigua and Barbuda          102.0            128.0           45.0   \n",
      "..                   ...            ...              ...            ...   \n",
      "172            Venezuela          333.0            100.0            3.0   \n",
      "173              Vietnam          111.0              2.0            1.0   \n",
      "174                Yemen            6.0              0.0            0.0   \n",
      "175               Zambia           32.0             19.0            4.0   \n",
      "176             Zimbabwe           64.0             18.0            4.0   \n",
      "\n",
      "     life_expentancy                region  gdp_per_capita  \n",
      "0               65.0  ASIA (EX. NEAR EAST)             700  \n",
      "1               77.8        EASTERN EUROPE            4500  \n",
      "2               75.6       NORTHERN AFRICA            6000  \n",
      "3               52.4    SUB-SAHARAN AFRICA            1900  \n",
      "4               76.4   LATIN AMER. & CARIB           11000  \n",
      "..               ...                   ...             ...  \n",
      "172             74.1   LATIN AMER. & CARIB            4800  \n",
      "173             76.0  ASIA (EX. NEAR EAST)            2500  \n",
      "174             65.7             NEAR EAST             650  \n",
      "175             61.8    SUB-SAHARAN AFRICA            1000  \n",
      "176             67.0    SUB-SAHARAN AFRICA             950  \n",
      "\n",
      "[177 rows x 7 columns]\n"
     ]
    }
   ],
   "source": [
    "import pandas as pd\n",
    "import numpy as np\n",
    "import matplotlib.pyplot as plt\n",
    "\n",
    "df = pd.read_csv(\"C:\\\\Users\\\\rizzu\\\\OneDrive\\\\Desktop\\\\visual studio\\\\esercizi piattaforma numpy pandas\\\\World_Alcohol_Dataset - MAIN.csv\", na_values = \"?\")\n",
    "print(df)"
   ]
  },
  {
   "cell_type": "code",
   "execution_count": 45,
   "metadata": {},
   "outputs": [
    {
     "data": {
      "text/plain": [
       "beer_servings      376.0\n",
       "spirit_servings    438.0\n",
       "dtype: float64"
      ]
     },
     "execution_count": 45,
     "metadata": {},
     "output_type": "execute_result"
    }
   ],
   "source": [
    "df[[\"beer_servings\", \"spirit_servings\"]].max()\n",
    "\n"
   ]
  },
  {
   "cell_type": "code",
   "execution_count": 46,
   "metadata": {},
   "outputs": [
    {
     "data": {
      "text/plain": [
       "0        0.0\n",
       "1      132.0\n",
       "2       25.0\n",
       "3      217.0\n",
       "4      128.0\n",
       "       ...  \n",
       "172    333.0\n",
       "173    111.0\n",
       "174      6.0\n",
       "175     32.0\n",
       "176     64.0\n",
       "Name: consumo_maggiore, Length: 177, dtype: float64"
      ]
     },
     "execution_count": 46,
     "metadata": {},
     "output_type": "execute_result"
    }
   ],
   "source": [
    "df[\"consumo_maggiore\"] = df[[\"beer_servings\", \"spirit_servings\"]].max(axis=1)\n",
    "df[\"consumo_maggiore\"]"
   ]
  },
  {
   "cell_type": "code",
   "execution_count": 47,
   "metadata": {},
   "outputs": [
    {
     "data": {
      "text/html": [
       "<div>\n",
       "<style scoped>\n",
       "    .dataframe tbody tr th:only-of-type {\n",
       "        vertical-align: middle;\n",
       "    }\n",
       "\n",
       "    .dataframe tbody tr th {\n",
       "        vertical-align: top;\n",
       "    }\n",
       "\n",
       "    .dataframe thead th {\n",
       "        text-align: right;\n",
       "    }\n",
       "</style>\n",
       "<table border=\"1\" class=\"dataframe\">\n",
       "  <thead>\n",
       "    <tr style=\"text-align: right;\">\n",
       "      <th></th>\n",
       "      <th>country</th>\n",
       "      <th>consumo_maggiore</th>\n",
       "      <th>region</th>\n",
       "    </tr>\n",
       "  </thead>\n",
       "  <tbody>\n",
       "    <tr>\n",
       "      <th>64</th>\n",
       "      <td>Grenada</td>\n",
       "      <td>438.0</td>\n",
       "      <td>LATIN AMER. &amp; CARIB</td>\n",
       "    </tr>\n",
       "    <tr>\n",
       "      <th>111</th>\n",
       "      <td>Namibia</td>\n",
       "      <td>376.0</td>\n",
       "      <td>SUB-SAHARAN AFRICA</td>\n",
       "    </tr>\n",
       "    <tr>\n",
       "      <th>14</th>\n",
       "      <td>Belarus</td>\n",
       "      <td>373.0</td>\n",
       "      <td>C.W. OF IND. STATES</td>\n",
       "    </tr>\n",
       "    <tr>\n",
       "      <th>43</th>\n",
       "      <td>Czechia</td>\n",
       "      <td>361.0</td>\n",
       "      <td>EASTERN EUROPE</td>\n",
       "    </tr>\n",
       "    <tr>\n",
       "      <th>58</th>\n",
       "      <td>Gabon</td>\n",
       "      <td>347.0</td>\n",
       "      <td>SUB-SAHARAN AFRICA</td>\n",
       "    </tr>\n",
       "  </tbody>\n",
       "</table>\n",
       "</div>"
      ],
      "text/plain": [
       "     country  consumo_maggiore               region\n",
       "64   Grenada             438.0  LATIN AMER. & CARIB\n",
       "111  Namibia             376.0   SUB-SAHARAN AFRICA\n",
       "14   Belarus             373.0  C.W. OF IND. STATES\n",
       "43   Czechia             361.0       EASTERN EUROPE\n",
       "58     Gabon             347.0   SUB-SAHARAN AFRICA"
      ]
     },
     "execution_count": 47,
     "metadata": {},
     "output_type": "execute_result"
    }
   ],
   "source": [
    "top5 = df[[\"country\",\"consumo_maggiore\",\"region\"]].sort_values(by=(\"consumo_maggiore\"),ascending=False)\n",
    "top5.head(5)"
   ]
  }
 ],
 "metadata": {
  "kernelspec": {
   "display_name": "Python 3",
   "language": "python",
   "name": "python3"
  },
  "language_info": {
   "codemirror_mode": {
    "name": "ipython",
    "version": 3
   },
   "file_extension": ".py",
   "mimetype": "text/x-python",
   "name": "python",
   "nbconvert_exporter": "python",
   "pygments_lexer": "ipython3",
   "version": "3.11.4"
  },
  "orig_nbformat": 4
 },
 "nbformat": 4,
 "nbformat_minor": 2
}
