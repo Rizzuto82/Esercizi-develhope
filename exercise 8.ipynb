{
 "cells": [
  {
   "cell_type": "markdown",
   "metadata": {},
   "source": [
    "Scrivere un programma Panda per estrarre record specifici dal set di dati sul consumo mondiale di alcol, iniziando dalla 2a riga e selezionando successivamente ogni 5 righe."
   ]
  },
  {
   "cell_type": "code",
   "execution_count": 3,
   "metadata": {},
   "outputs": [
    {
     "name": "stdout",
     "output_type": "stream",
     "text": [
      "                 country  beer_servings  spirit_servings  wine_servings  \\\n",
      "0            Afghanistan            0.0              0.0            0.0   \n",
      "1                Albania           89.0            132.0           54.0   \n",
      "2                Algeria           25.0              0.0           14.0   \n",
      "3                 Angola          217.0             57.0           45.0   \n",
      "4    Antigua and Barbuda          102.0            128.0           45.0   \n",
      "..                   ...            ...              ...            ...   \n",
      "172            Venezuela          333.0            100.0            3.0   \n",
      "173              Vietnam          111.0              2.0            1.0   \n",
      "174                Yemen            6.0              0.0            0.0   \n",
      "175               Zambia           32.0             19.0            4.0   \n",
      "176             Zimbabwe           64.0             18.0            4.0   \n",
      "\n",
      "     life_expentancy                region  gdp_per_capita  \n",
      "0               65.0  ASIA (EX. NEAR EAST)             700  \n",
      "1               77.8        EASTERN EUROPE            4500  \n",
      "2               75.6       NORTHERN AFRICA            6000  \n",
      "3               52.4    SUB-SAHARAN AFRICA            1900  \n",
      "4               76.4   LATIN AMER. & CARIB           11000  \n",
      "..               ...                   ...             ...  \n",
      "172             74.1   LATIN AMER. & CARIB            4800  \n",
      "173             76.0  ASIA (EX. NEAR EAST)            2500  \n",
      "174             65.7             NEAR EAST             650  \n",
      "175             61.8    SUB-SAHARAN AFRICA            1000  \n",
      "176             67.0    SUB-SAHARAN AFRICA             950  \n",
      "\n",
      "[177 rows x 7 columns]\n"
     ]
    }
   ],
   "source": [
    "import pandas as pd\n",
    "import numpy as np\n",
    "import matplotlib.pyplot as plt\n",
    "\n",
    "df=pd.read_csv(\"World_Alcohol_Dataset - MAIN.csv\", na_values = \"?\")\n",
    "print(df)"
   ]
  },
  {
   "cell_type": "code",
   "execution_count": 10,
   "metadata": {},
   "outputs": [
    {
     "name": "stdout",
     "output_type": "stream",
     "text": [
      "                              country  beer_servings  spirit_servings  \\\n",
      "2                             Algeria           25.0              0.0   \n",
      "7                           Australia          261.0             72.0   \n",
      "12                         Bangladesh            0.0              0.0   \n",
      "17                              Benin           34.0              4.0   \n",
      "22                             Brazil          245.0            145.0   \n",
      "27                         Cape Verde          144.0             56.0   \n",
      "32                               Chad           15.0              1.0   \n",
      "37                              Congo           76.0              1.0   \n",
      "42                             Cyprus          192.0            154.0   \n",
      "47   Democratic Republic of the Congo           32.0              3.0   \n",
      "52                            Eritrea           18.0              0.0   \n",
      "57                             France          127.0            151.0   \n",
      "62                              Ghana           31.0              3.0   \n",
      "67                      Guinea-Bissau           28.0             31.0   \n",
      "72                            Iceland          233.0             61.0   \n",
      "77                            Ireland          313.0            118.0   \n",
      "82                             Jordan            6.0             21.0   \n",
      "87                         Kyrgyzstan           31.0             97.0   \n",
      "92                            Liberia           19.0            152.0   \n",
      "97                         Madagascar           26.0             15.0   \n",
      "102                             Malta          149.0            100.0   \n",
      "107                          Mongolia           77.0            189.0   \n",
      "112                             Nepal            5.0              6.0   \n",
      "117                           Nigeria           42.0              5.0   \n",
      "122                            Panama          285.0            104.0   \n",
      "127                            Poland          343.0            215.0   \n",
      "132                            Rwanda           43.0              2.0   \n",
      "137                        Seychelles          157.0             25.0   \n",
      "142                   Solomon Islands           56.0             11.0   \n",
      "147                         Sri Lanka           16.0            104.0   \n",
      "152                       Switzerland          185.0            100.0   \n",
      "157                        East Timor            1.0              1.0   \n",
      "162                            Turkey           51.0             22.0   \n",
      "167                    United Kingdom          219.0            126.0   \n",
      "172                         Venezuela          333.0            100.0   \n",
      "\n",
      "     wine_servings  life_expentancy                region  gdp_per_capita  \n",
      "2             14.0             75.6       NORTHERN AFRICA            6000  \n",
      "7            212.0             82.8               OCEANIA           29000  \n",
      "12             0.0             71.8  ASIA (EX. NEAR EAST)            1900  \n",
      "17            13.0             60.0    SUB-SAHARAN AFRICA            1100  \n",
      "22            16.0             75.0   LATIN AMER. & CARIB            7600  \n",
      "27            16.0             73.3    SUB-SAHARAN AFRICA            1400  \n",
      "32             1.0             53.1    SUB-SAHARAN AFRICA            1200  \n",
      "37             9.0             64.7    SUB-SAHARAN AFRICA             700  \n",
      "42           113.0             85.0             NEAR EAST           19200  \n",
      "47             1.0             59.8    SUB-SAHARAN AFRICA             700  \n",
      "52             0.0             64.7    SUB-SAHARAN AFRICA             700  \n",
      "57           370.0             82.4        WESTERN EUROPE           27600  \n",
      "62            10.0             62.4    SUB-SAHARAN AFRICA            2200  \n",
      "67            21.0             58.9    SUB-SAHARAN AFRICA             800  \n",
      "72            78.0             82.7        WESTERN EUROPE           30900  \n",
      "77           165.0             81.4        WESTERN EUROPE           29600  \n",
      "82             1.0             74.1             NEAR EAST            4300  \n",
      "87             6.0             71.1   C.W. OF IND. STATES            1600  \n",
      "92             2.0             61.4    SUB-SAHARAN AFRICA            1000  \n",
      "97             4.0             65.5    SUB-SAHARAN AFRICA             800  \n",
      "102          120.0             81.7        WESTERN EUROPE           17700  \n",
      "107            8.0             68.8  ASIA (EX. NEAR EAST)            1800  \n",
      "112            0.0             69.2  ASIA (EX. NEAR EAST)            1400  \n",
      "117            2.0             54.5    SUB-SAHARAN AFRICA             900  \n",
      "122           18.0             77.8   LATIN AMER. & CARIB            6300  \n",
      "127           56.0             77.5        EASTERN EUROPE           11100  \n",
      "132            0.0             66.1    SUB-SAHARAN AFRICA            1300  \n",
      "137           51.0             73.2    SUB-SAHARAN AFRICA            7800  \n",
      "142            1.0             69.2               OCEANIA            1700  \n",
      "147            0.0             74.9  ASIA (EX. NEAR EAST)            3700  \n",
      "152          280.0             83.4        WESTERN EUROPE           32700  \n",
      "157            4.0             68.3  ASIA (EX. NEAR EAST)             500  \n",
      "162            7.0             75.8             NEAR EAST            6700  \n",
      "167          195.0             81.2        WESTERN EUROPE           27700  \n",
      "172            3.0             74.1   LATIN AMER. & CARIB            4800  \n"
     ]
    }
   ],
   "source": [
    "print(df.iloc[2:: 5])"
   ]
  }
 ],
 "metadata": {
  "kernelspec": {
   "display_name": "Python 3",
   "language": "python",
   "name": "python3"
  },
  "language_info": {
   "codemirror_mode": {
    "name": "ipython",
    "version": 3
   },
   "file_extension": ".py",
   "mimetype": "text/x-python",
   "name": "python",
   "nbconvert_exporter": "python",
   "pygments_lexer": "ipython3",
   "version": "3.11.4"
  },
  "orig_nbformat": 4
 },
 "nbformat": 4,
 "nbformat_minor": 2
}
