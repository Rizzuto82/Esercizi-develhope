{
 "cells": [
  {
   "cell_type": "code",
   "execution_count": null,
   "metadata": {},
   "outputs": [],
   "source": [
    "# Scrivi un DAG che crei una tabella dei dipendenti: ogni riga rappresenta una nuova persona e contiene informazioni sul nome e sull'età\n",
    "# quindi inserisci 3 persone (con i metadati corretti)\n",
    "# infine eseguire una query che calcoli l'età media di tutti i dipendenti"
   ]
  },
  {
   "cell_type": "code",
   "execution_count": null,
   "metadata": {},
   "outputs": [],
   "source": [
    "import time\n",
    "import json \n",
    "from airflow import DAG \n",
    "from airflow.operators.postgres_operator import PostgresOperator \n",
    "from datetime import timedelta\n",
    "from airflow.utils.dates import days_ago\n",
    "\n",
    "\n",
    "default_args = { \"owner\": \"airflow\",\n",
    "                 \"retries\": 1,\n",
    "                 \"retry_delay\": timedelta(minutes=5),   \n",
    "}\n",
    "\n",
    "\n",
    "create_query=\"\"\"\n",
    "create TABLE employee( name VARCHAR(250), age INT );\n",
    "\"\"\"\n",
    "\n",
    "insert_data_query = \"\"\"\n",
    "INSERT INTO employee (name, age) VALUES\n",
    "    ( \"Manuela Rizzuto\", 30),\n",
    "    ( \"Luigi Rossi\", 25),\n",
    "    ( \"Mario Verdi\", 35);\n",
    "\"\"\"\n",
    "\n",
    "\n",
    "calculating_average_age = \"\"\"\n",
    "SELECT AVG(age) FROM employee;\n",
    "\"\"\"\n",
    "\n",
    "dag_postgres= DAG(\n",
    "    dag_id= \"postgres_dag_connection\",\n",
    "    default_args=default_args,\n",
    "    schedule_interval= None,\n",
    "    start_date=days_ago(1))\n",
    "\n",
    "\n",
    "dag_postgres = DAG(dag_id=\"postgres_dag_connection\", default_args=default_args, schedule_interval=None, start_date=days_ago(1))\n",
    "\n",
    "\n",
    "\n",
    "create_table = PostgresOperator(task_id=\"creation_of_table\", sql=create_query, dag=dag_postgres, postgres_conn_id=\"postgres_manuela_local\")\n",
    "insert_data = PostgresOperator(task_id=\"insertion_of_data\", sql=insert_data_query, dag=dag_postgres, postgres_conn_id=\"postgres_manuela_local\")\n",
    "group_data = PostgresOperator(task_id=\"calculating_average_age\", sql=calculating_average_age, dag=dag_postgres, postgres_conn_id=\"postgres_manuela_local\")\n",
    "\n",
    "create_table >> insert_data >> group_data"
   ]
  }
 ],
 "metadata": {
  "language_info": {
   "name": "python"
  }
 },
 "nbformat": 4,
 "nbformat_minor": 2
}
