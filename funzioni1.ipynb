{
  "nbformat": 4,
  "nbformat_minor": 0,
  "metadata": {
    "colab": {
      "provenance": [],
      "authorship_tag": "ABX9TyOK9+sgj8bJtyVuQhb61ftX",
      "include_colab_link": true
    },
    "kernelspec": {
      "name": "python3",
      "display_name": "Python 3"
    },
    "language_info": {
      "name": "python"
    }
  },
  "cells": [
    {
      "cell_type": "markdown",
      "metadata": {
        "id": "view-in-github",
        "colab_type": "text"
      },
      "source": [
        "<a href=\"https://colab.research.google.com/github/Rizzuto82/Esercizi-develhope/blob/main/funzioni1.ipynb\" target=\"_parent\"><img src=\"https://colab.research.google.com/assets/colab-badge.svg\" alt=\"Open In Colab\"/></a>"
      ]
    },
    {
      "cell_type": "code",
      "execution_count": 1,
      "metadata": {
        "id": "XJOkfy5WwoUt"
      },
      "outputs": [],
      "source": [
        " #create a function named goodbye without parameters which prints good bye\n",
        "\n",
        "def goodbye():\n",
        "    print(\"goodbye\")"
      ]
    }
  ]
}