{
  "nbformat": 4,
  "nbformat_minor": 0,
  "metadata": {
    "colab": {
      "provenance": [],
      "authorship_tag": "ABX9TyOgOw6DvhJoJXjZ0/cHymNz",
      "include_colab_link": true
    },
    "kernelspec": {
      "name": "python3",
      "display_name": "Python 3"
    },
    "language_info": {
      "name": "python"
    }
  },
  "cells": [
    {
      "cell_type": "markdown",
      "metadata": {
        "id": "view-in-github",
        "colab_type": "text"
      },
      "source": [
        "<a href=\"https://colab.research.google.com/github/Rizzuto82/Esercizi-develhope/blob/main/iterators_for_loop3.ipynb\" target=\"_parent\"><img src=\"https://colab.research.google.com/assets/colab-badge.svg\" alt=\"Open In Colab\"/></a>"
      ]
    },
    {
      "cell_type": "code",
      "execution_count": null,
      "metadata": {
        "id": "UcIbHo8PNzP3"
      },
      "outputs": [],
      "source": [
        "#check if it is time for `coffee break` if it is just break\n",
        "#to do that lets iterate through given list don't change the `COFFEE BREAK` statement\n",
        "#just find another way to do it"
      ]
    },
    {
      "cell_type": "code",
      "source": [
        "todo = [\"exercise1\", \"exercise2\", \"exercise3\",\"coffee break\" ,\"exercise4\",\"exercise5\",\"exercise6\"]\n",
        "for x in todo:\n",
        "    if x.upper() == \"COFFEE BREAK\":\n",
        "        print(x)\n",
        "        break"
      ],
      "metadata": {
        "colab": {
          "base_uri": "https://localhost:8080/"
        },
        "id": "9NP6BHibP2bm",
        "outputId": "ab3ec88b-76e9-4661-9018-cfb5c72eae13"
      },
      "execution_count": null,
      "outputs": [
        {
          "output_type": "stream",
          "name": "stdout",
          "text": [
            "coffee break\n"
          ]
        }
      ]
    },
    {
      "cell_type": "code",
      "source": [
        "todo = [\"exercise1\", \"exercise2\", \"exercise3\",\"coffee break\" ,\"exercise4\",\"exercise5\",\"exercise6\"]\n",
        "i = 0\n",
        "while i < len(todo):\n",
        "  if todo[i].upper() == \"COFFEE BREAK\":\n",
        "   print(todo[i])\n",
        "   break\n",
        "\n",
        "\n",
        "# Gaetano non mi printa nulla, gira a vuoto. mi spieghi l'errore?"
      ],
      "metadata": {
        "id": "G4sU_KP1kf9V"
      },
      "execution_count": null,
      "outputs": []
    }
  ]
}