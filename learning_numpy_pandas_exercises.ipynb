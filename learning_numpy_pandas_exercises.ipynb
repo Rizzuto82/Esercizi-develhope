{
 "cells": [
  {
   "cell_type": "markdown",
   "id": "43103ef9",
   "metadata": {},
   "source": [
    "# Learning Numpy"
   ]
  },
  {
   "cell_type": "code",
   "execution_count": 1,
   "id": "f04141eb",
   "metadata": {},
   "outputs": [],
   "source": [
    "import numpy as np "
   ]
  },
  {
   "cell_type": "markdown",
   "id": "eb3a7efd",
   "metadata": {},
   "source": [
    "### Creating Arrays"
   ]
  },
  {
   "cell_type": "markdown",
   "id": "6be7fddb",
   "metadata": {},
   "source": [
    "<strong><ins>All arrays mentioned here are numpy arrays as long as opposite is not mentioned</ins></strong> please solve the problems with this knowledge."
   ]
  },
  {
   "cell_type": "markdown",
   "id": "471f6974",
   "metadata": {},
   "source": [
    "Create an array in size of 4*3 and assing it to arr variable "
   ]
  },
  {
   "cell_type": "code",
   "execution_count": 2,
   "id": "12801da8",
   "metadata": {},
   "outputs": [
    {
     "name": "stdout",
     "output_type": "stream",
     "text": [
      "[[ 1  2  3]\n",
      " [ 4  5  6]\n",
      " [ 7  8  9]\n",
      " [10 11 12]]\n"
     ]
    }
   ],
   "source": [
    "arr = np.array([[1,2,3],[4,5,6],[7,8,9],[10,11,12]]) \n",
    "print(arr)"
   ]
  },
  {
   "cell_type": "markdown",
   "id": "c82af80c",
   "metadata": {},
   "source": [
    "Create an array with elements from 0 to 15 (both inclusive) and assing it to arr2 variable   \n",
    "Then print the shape of the arr2  \n",
    "copy the arr2 to arr2_copy  \n",
    "print arr2, arr2_copy   \n",
    "Change its shape to 4*4 and assign to itself   \n",
    "print arr2, arr2_copy again    "
   ]
  },
  {
   "cell_type": "code",
   "execution_count": 3,
   "id": "4ee6f844",
   "metadata": {},
   "outputs": [],
   "source": [
    "arr2 = np.arange(0,16)"
   ]
  },
  {
   "cell_type": "code",
   "execution_count": 4,
   "id": "14e1498d",
   "metadata": {},
   "outputs": [
    {
     "name": "stdout",
     "output_type": "stream",
     "text": [
      "(16,)\n"
     ]
    }
   ],
   "source": [
    "print(arr2.shape)"
   ]
  },
  {
   "cell_type": "code",
   "execution_count": 5,
   "id": "7ce3c862",
   "metadata": {},
   "outputs": [],
   "source": [
    "arr2_copy = arr2.copy()"
   ]
  },
  {
   "cell_type": "code",
   "execution_count": 6,
   "id": "b8d68dbc",
   "metadata": {},
   "outputs": [
    {
     "name": "stdout",
     "output_type": "stream",
     "text": [
      "[ 0  1  2  3  4  5  6  7  8  9 10 11 12 13 14 15] [ 0  1  2  3  4  5  6  7  8  9 10 11 12 13 14 15]\n"
     ]
    }
   ],
   "source": [
    "print(arr2, arr2_copy)"
   ]
  },
  {
   "cell_type": "code",
   "execution_count": 7,
   "id": "f06405d6",
   "metadata": {},
   "outputs": [],
   "source": [
    "arr2 = arr2.reshape(4,4)"
   ]
  },
  {
   "cell_type": "code",
   "execution_count": 8,
   "id": "b6c7ea2f",
   "metadata": {
    "scrolled": true
   },
   "outputs": [
    {
     "name": "stdout",
     "output_type": "stream",
     "text": [
      "[[ 0  1  2  3]\n",
      " [ 4  5  6  7]\n",
      " [ 8  9 10 11]\n",
      " [12 13 14 15]] [ 0  1  2  3  4  5  6  7  8  9 10 11 12 13 14 15]\n"
     ]
    }
   ],
   "source": [
    "print(arr2, arr2_copy)"
   ]
  },
  {
   "cell_type": "code",
   "execution_count": 9,
   "id": "40172742",
   "metadata": {},
   "outputs": [
    {
     "name": "stdout",
     "output_type": "stream",
     "text": [
      "(4, 4)\n"
     ]
    }
   ],
   "source": [
    "print(arr2.shape)"
   ]
  },
  {
   "cell_type": "markdown",
   "id": "5c312718",
   "metadata": {},
   "source": [
    "### Some Functions "
   ]
  },
  {
   "cell_type": "markdown",
   "id": "4a6c4e92",
   "metadata": {},
   "source": [
    "##### How many dimentions there are in arr2 variable? "
   ]
  },
  {
   "cell_type": "code",
   "execution_count": 10,
   "id": "03c9544c",
   "metadata": {},
   "outputs": [
    {
     "name": "stdout",
     "output_type": "stream",
     "text": [
      "2\n"
     ]
    }
   ],
   "source": [
    "print(arr2.ndim)"
   ]
  },
  {
   "cell_type": "markdown",
   "id": "0d24dc16",
   "metadata": {},
   "source": [
    "##### Describe the number of rows and columns in arr2 variable "
   ]
  },
  {
   "cell_type": "code",
   "execution_count": 11,
   "id": "e4c71e21",
   "metadata": {},
   "outputs": [
    {
     "data": {
      "text/plain": [
       "(4, 4)"
      ]
     },
     "execution_count": 11,
     "metadata": {},
     "output_type": "execute_result"
    }
   ],
   "source": [
    "arr2.shape"
   ]
  },
  {
   "cell_type": "markdown",
   "id": "fb0109ad",
   "metadata": {},
   "source": [
    "##### How many elements there are in arr2 variable?"
   ]
  },
  {
   "cell_type": "code",
   "execution_count": 12,
   "id": "4f12ea1a",
   "metadata": {},
   "outputs": [
    {
     "data": {
      "text/plain": [
       "16"
      ]
     },
     "execution_count": 12,
     "metadata": {},
     "output_type": "execute_result"
    }
   ],
   "source": [
    "arr2.size"
   ]
  },
  {
   "cell_type": "markdown",
   "id": "3fb5ef4e",
   "metadata": {},
   "source": [
    "##### Print the data type of arr2"
   ]
  },
  {
   "cell_type": "code",
   "execution_count": 13,
   "id": "a1e76cbb",
   "metadata": {},
   "outputs": [
    {
     "name": "stdout",
     "output_type": "stream",
     "text": [
      "int32\n"
     ]
    }
   ],
   "source": [
    "print(arr2.dtype)"
   ]
  },
  {
   "cell_type": "markdown",
   "id": "3d6dc446",
   "metadata": {},
   "source": [
    "#### Print the data location in the memory"
   ]
  },
  {
   "cell_type": "code",
   "execution_count": 14,
   "id": "b480c54e",
   "metadata": {},
   "outputs": [
    {
     "name": "stdout",
     "output_type": "stream",
     "text": [
      "<memory at 0x000001D9C66905F0>\n"
     ]
    }
   ],
   "source": [
    "print(arr2.data)"
   ]
  },
  {
   "cell_type": "markdown",
   "id": "f50930f0",
   "metadata": {},
   "source": [
    "### Some Statistics About the Arrays"
   ]
  },
  {
   "cell_type": "markdown",
   "id": "e2bd3bf5",
   "metadata": {},
   "source": [
    "#### Show 50th percentile of arr2"
   ]
  },
  {
   "cell_type": "code",
   "execution_count": 15,
   "id": "cf2ff1b6",
   "metadata": {},
   "outputs": [
    {
     "data": {
      "text/plain": [
       "7.5"
      ]
     },
     "execution_count": 15,
     "metadata": {},
     "output_type": "execute_result"
    }
   ],
   "source": [
    "np.percentile(arr2,50)"
   ]
  },
  {
   "cell_type": "markdown",
   "id": "b94b76aa",
   "metadata": {},
   "source": [
    "#### Show mean of arr2 elements"
   ]
  },
  {
   "cell_type": "code",
   "execution_count": 16,
   "id": "26ebc870",
   "metadata": {},
   "outputs": [
    {
     "data": {
      "text/plain": [
       "7.5"
      ]
     },
     "execution_count": 16,
     "metadata": {},
     "output_type": "execute_result"
    }
   ],
   "source": [
    "np.mean(arr2)"
   ]
  },
  {
   "cell_type": "markdown",
   "id": "1ab10d37",
   "metadata": {},
   "source": [
    "#### Show median of arr2 elements"
   ]
  },
  {
   "cell_type": "code",
   "execution_count": 17,
   "id": "973b1ff7",
   "metadata": {},
   "outputs": [
    {
     "data": {
      "text/plain": [
       "7.5"
      ]
     },
     "execution_count": 17,
     "metadata": {},
     "output_type": "execute_result"
    }
   ],
   "source": [
    "np.median(arr2)"
   ]
  },
  {
   "cell_type": "markdown",
   "id": "7040730d",
   "metadata": {},
   "source": [
    "##### Create one dimensional normally distrubuted array with mean 3 standard deviation is 4 and has elements of 100"
   ]
  },
  {
   "cell_type": "code",
   "execution_count": 18,
   "id": "5e246a9f",
   "metadata": {},
   "outputs": [],
   "source": [
    "s = np.random.normal(loc=3,scale=4,size=100)"
   ]
  },
  {
   "cell_type": "markdown",
   "id": "5320324e",
   "metadata": {},
   "source": [
    "#### Install matplotlib library for ploting purposes and then plot the s \n",
    "- search to find how to do"
   ]
  },
  {
   "cell_type": "code",
   "execution_count": 19,
   "id": "a8ca4a2e",
   "metadata": {},
   "outputs": [
    {
     "data": {
      "text/plain": [
       "(array([ 5.,  5., 12., 13., 19., 17., 16.,  9.,  2.,  2.]),\n",
       " array([-5.63131964, -3.91043675, -2.18955387, -0.46867098,  1.2522119 ,\n",
       "         2.97309479,  4.69397767,  6.41486056,  8.13574344,  9.85662633,\n",
       "        11.57750921]),\n",
       " <BarContainer object of 10 artists>)"
      ]
     },
     "execution_count": 19,
     "metadata": {},
     "output_type": "execute_result"
    },
    {
     "data": {
      "image/png": "[encoded data removed]",
      "text/plain": [
       "<Figure size 640x480 with 1 Axes>"
      ]
     },
     "metadata": {},
     "output_type": "display_data"
    }
   ],
   "source": [
    "import matplotlib.pyplot as plt\n",
    "s = np.random.normal(loc=3,scale=4,size=100)\n",
    "plt.hist(s)"
   ]
  },
  {
   "cell_type": "markdown",
   "id": "f0ba30ab",
   "metadata": {},
   "source": [
    "____"
   ]
  },
  {
   "cell_type": "markdown",
   "id": "25f032d0",
   "metadata": {},
   "source": [
    "# Learning Pandas"
   ]
  },
  {
   "cell_type": "markdown",
   "id": "d2a96de4",
   "metadata": {},
   "source": [
    "##### Read the airline safety data assign to df variable and print first 5 rows with pandas function"
   ]
  },
  {
   "cell_type": "code",
   "execution_count": 20,
   "id": "d19327ef",
   "metadata": {},
   "outputs": [],
   "source": [
    "import pandas as pd"
   ]
  },
  {
   "cell_type": "code",
   "execution_count": 21,
   "id": "45471ae7",
   "metadata": {},
   "outputs": [],
   "source": [
    "df = pd.read_csv('airline-safety.csv')"
   ]
  },
  {
   "cell_type": "code",
   "execution_count": 22,
   "id": "efb56a58",
   "metadata": {},
   "outputs": [
    {
     "data": {
      "text/html": [
       "<div>\n",
       "<style scoped>\n",
       "    .dataframe tbody tr th:only-of-type {\n",
       "        vertical-align: middle;\n",
       "    }\n",
       "\n",
       "    .dataframe tbody tr th {\n",
       "        vertical-align: top;\n",
       "    }\n",
       "\n",
       "    .dataframe thead th {\n",
       "        text-align: right;\n",
       "    }\n",
       "</style>\n",
       "<table border=\"1\" class=\"dataframe\">\n",
       "  <thead>\n",
       "    <tr style=\"text-align: right;\">\n",
       "      <th></th>\n",
       "      <th>airline</th>\n",
       "      <th>avail_seat_km_per_week</th>\n",
       "      <th>incidents_85_99</th>\n",
       "      <th>fatal_accidents_85_99</th>\n",
       "      <th>fatalities_85_99</th>\n",
       "      <th>incidents_00_14</th>\n",
       "      <th>fatal_accidents_00_14</th>\n",
       "      <th>fatalities_00_14</th>\n",
       "    </tr>\n",
       "  </thead>\n",
       "  <tbody>\n",
       "    <tr>\n",
       "      <th>0</th>\n",
       "      <td>Aer Lingus</td>\n",
       "      <td>320906734</td>\n",
       "      <td>2</td>\n",
       "      <td>0</td>\n",
       "      <td>0</td>\n",
       "      <td>0</td>\n",
       "      <td>0</td>\n",
       "      <td>0</td>\n",
       "    </tr>\n",
       "    <tr>\n",
       "      <th>1</th>\n",
       "      <td>Aeroflot*</td>\n",
       "      <td>1197672318</td>\n",
       "      <td>76</td>\n",
       "      <td>14</td>\n",
       "      <td>128</td>\n",
       "      <td>6</td>\n",
       "      <td>1</td>\n",
       "      <td>88</td>\n",
       "    </tr>\n",
       "    <tr>\n",
       "      <th>2</th>\n",
       "      <td>Aerolineas Argentinas</td>\n",
       "      <td>385803648</td>\n",
       "      <td>6</td>\n",
       "      <td>0</td>\n",
       "      <td>0</td>\n",
       "      <td>1</td>\n",
       "      <td>0</td>\n",
       "      <td>0</td>\n",
       "    </tr>\n",
       "    <tr>\n",
       "      <th>3</th>\n",
       "      <td>Aeromexico*</td>\n",
       "      <td>596871813</td>\n",
       "      <td>3</td>\n",
       "      <td>1</td>\n",
       "      <td>64</td>\n",
       "      <td>5</td>\n",
       "      <td>0</td>\n",
       "      <td>0</td>\n",
       "    </tr>\n",
       "    <tr>\n",
       "      <th>4</th>\n",
       "      <td>Air Canada</td>\n",
       "      <td>1865253802</td>\n",
       "      <td>2</td>\n",
       "      <td>0</td>\n",
       "      <td>0</td>\n",
       "      <td>2</td>\n",
       "      <td>0</td>\n",
       "      <td>0</td>\n",
       "    </tr>\n",
       "  </tbody>\n",
       "</table>\n",
       "</div>"
      ],
      "text/plain": [
       "                 airline  avail_seat_km_per_week  incidents_85_99  \\\n",
       "0             Aer Lingus               320906734                2   \n",
       "1              Aeroflot*              1197672318               76   \n",
       "2  Aerolineas Argentinas               385803648                6   \n",
       "3            Aeromexico*               596871813                3   \n",
       "4             Air Canada              1865253802                2   \n",
       "\n",
       "   fatal_accidents_85_99  fatalities_85_99  incidents_00_14  \\\n",
       "0                      0                 0                0   \n",
       "1                     14               128                6   \n",
       "2                      0                 0                1   \n",
       "3                      1                64                5   \n",
       "4                      0                 0                2   \n",
       "\n",
       "   fatal_accidents_00_14  fatalities_00_14  \n",
       "0                      0                 0  \n",
       "1                      1                88  \n",
       "2                      0                 0  \n",
       "3                      0                 0  \n",
       "4                      0                 0  "
      ]
     },
     "execution_count": 22,
     "metadata": {},
     "output_type": "execute_result"
    }
   ],
   "source": [
    "df.head(5)"
   ]
  },
  {
   "cell_type": "markdown",
   "id": "4f9a8367",
   "metadata": {},
   "source": [
    "##### print last 5 rows with pandas function"
   ]
  },
  {
   "cell_type": "code",
   "execution_count": 23,
   "id": "7aad0e59",
   "metadata": {},
   "outputs": [
    {
     "data": {
      "text/html": [
       "<div>\n",
       "<style scoped>\n",
       "    .dataframe tbody tr th:only-of-type {\n",
       "        vertical-align: middle;\n",
       "    }\n",
       "\n",
       "    .dataframe tbody tr th {\n",
       "        vertical-align: top;\n",
       "    }\n",
       "\n",
       "    .dataframe thead th {\n",
       "        text-align: right;\n",
       "    }\n",
       "</style>\n",
       "<table border=\"1\" class=\"dataframe\">\n",
       "  <thead>\n",
       "    <tr style=\"text-align: right;\">\n",
       "      <th></th>\n",
       "      <th>airline</th>\n",
       "      <th>avail_seat_km_per_week</th>\n",
       "      <th>incidents_85_99</th>\n",
       "      <th>fatal_accidents_85_99</th>\n",
       "      <th>fatalities_85_99</th>\n",
       "      <th>incidents_00_14</th>\n",
       "      <th>fatal_accidents_00_14</th>\n",
       "      <th>fatalities_00_14</th>\n",
       "    </tr>\n",
       "  </thead>\n",
       "  <tbody>\n",
       "    <tr>\n",
       "      <th>51</th>\n",
       "      <td>United / Continental*</td>\n",
       "      <td>7139291291</td>\n",
       "      <td>19</td>\n",
       "      <td>8</td>\n",
       "      <td>319</td>\n",
       "      <td>14</td>\n",
       "      <td>2</td>\n",
       "      <td>109</td>\n",
       "    </tr>\n",
       "    <tr>\n",
       "      <th>52</th>\n",
       "      <td>US Airways / America West*</td>\n",
       "      <td>2455687887</td>\n",
       "      <td>16</td>\n",
       "      <td>7</td>\n",
       "      <td>224</td>\n",
       "      <td>11</td>\n",
       "      <td>2</td>\n",
       "      <td>23</td>\n",
       "    </tr>\n",
       "    <tr>\n",
       "      <th>53</th>\n",
       "      <td>Vietnam Airlines</td>\n",
       "      <td>625084918</td>\n",
       "      <td>7</td>\n",
       "      <td>3</td>\n",
       "      <td>171</td>\n",
       "      <td>1</td>\n",
       "      <td>0</td>\n",
       "      <td>0</td>\n",
       "    </tr>\n",
       "    <tr>\n",
       "      <th>54</th>\n",
       "      <td>Virgin Atlantic</td>\n",
       "      <td>1005248585</td>\n",
       "      <td>1</td>\n",
       "      <td>0</td>\n",
       "      <td>0</td>\n",
       "      <td>0</td>\n",
       "      <td>0</td>\n",
       "      <td>0</td>\n",
       "    </tr>\n",
       "    <tr>\n",
       "      <th>55</th>\n",
       "      <td>Xiamen Airlines</td>\n",
       "      <td>430462962</td>\n",
       "      <td>9</td>\n",
       "      <td>1</td>\n",
       "      <td>82</td>\n",
       "      <td>2</td>\n",
       "      <td>0</td>\n",
       "      <td>0</td>\n",
       "    </tr>\n",
       "  </tbody>\n",
       "</table>\n",
       "</div>"
      ],
      "text/plain": [
       "                       airline  avail_seat_km_per_week  incidents_85_99  \\\n",
       "51       United / Continental*              7139291291               19   \n",
       "52  US Airways / America West*              2455687887               16   \n",
       "53            Vietnam Airlines               625084918                7   \n",
       "54             Virgin Atlantic              1005248585                1   \n",
       "55             Xiamen Airlines               430462962                9   \n",
       "\n",
       "    fatal_accidents_85_99  fatalities_85_99  incidents_00_14  \\\n",
       "51                      8               319               14   \n",
       "52                      7               224               11   \n",
       "53                      3               171                1   \n",
       "54                      0                 0                0   \n",
       "55                      1                82                2   \n",
       "\n",
       "    fatal_accidents_00_14  fatalities_00_14  \n",
       "51                      2               109  \n",
       "52                      2                23  \n",
       "53                      0                 0  \n",
       "54                      0                 0  \n",
       "55                      0                 0  "
      ]
     },
     "execution_count": 23,
     "metadata": {},
     "output_type": "execute_result"
    }
   ],
   "source": [
    "df.tail(5)"
   ]
  },
  {
   "cell_type": "markdown",
   "id": "9c9ef7db",
   "metadata": {},
   "source": [
    "##### Show shape of df"
   ]
  },
  {
   "cell_type": "code",
   "execution_count": 24,
   "id": "e9d19c7a",
   "metadata": {},
   "outputs": [
    {
     "data": {
      "text/plain": [
       "(56, 8)"
      ]
     },
     "execution_count": 24,
     "metadata": {},
     "output_type": "execute_result"
    }
   ],
   "source": [
    "df.shape"
   ]
  },
  {
   "cell_type": "markdown",
   "id": "29b6bcdb",
   "metadata": {},
   "source": [
    "##### Show descriptive statistics of df"
   ]
  },
  {
   "cell_type": "code",
   "execution_count": 25,
   "id": "033ecb1b",
   "metadata": {},
   "outputs": [
    {
     "data": {
      "text/plain": [
       "<bound method NDFrame.describe of                        airline  avail_seat_km_per_week  incidents_85_99  \\\n",
       "0                   Aer Lingus               320906734                2   \n",
       "1                    Aeroflot*              1197672318               76   \n",
       "2        Aerolineas Argentinas               385803648                6   \n",
       "3                  Aeromexico*               596871813                3   \n",
       "4                   Air Canada              1865253802                2   \n",
       "5                   Air France              3004002661               14   \n",
       "6                   Air India*               869253552                2   \n",
       "7             Air New Zealand*               710174817                3   \n",
       "8             Alaska Airlines*               965346773                5   \n",
       "9                     Alitalia               698012498                7   \n",
       "10          All Nippon Airways              1841234177                3   \n",
       "11                   American*              5228357340               21   \n",
       "12           Austrian Airlines               358239823                1   \n",
       "13                     Avianca               396922563                5   \n",
       "14            British Airways*              3179760952                4   \n",
       "15             Cathay Pacific*              2582459303                0   \n",
       "16              China Airlines               813216487               12   \n",
       "17                      Condor               417982610                2   \n",
       "18                        COPA               550491507                3   \n",
       "19          Delta / Northwest*              6525658894               24   \n",
       "20                    Egyptair               557699891                8   \n",
       "21                       El Al               335448023                1   \n",
       "22          Ethiopian Airlines               488560643               25   \n",
       "23                     Finnair               506464950                1   \n",
       "24            Garuda Indonesia               613356665               10   \n",
       "25                    Gulf Air               301379762                1   \n",
       "26           Hawaiian Airlines               493877795                0   \n",
       "27                      Iberia              1173203126                4   \n",
       "28              Japan Airlines              1574217531                3   \n",
       "29               Kenya Airways               277414794                2   \n",
       "30                        KLM*              1874561773                7   \n",
       "31                  Korean Air              1734522605               12   \n",
       "32                LAN Airlines              1001965891                3   \n",
       "33                  Lufthansa*              3426529504                6   \n",
       "34           Malaysia Airlines              1039171244                3   \n",
       "35      Pakistan International               348563137                8   \n",
       "36         Philippine Airlines               413007158                7   \n",
       "37                     Qantas*              1917428984                1   \n",
       "38             Royal Air Maroc               295705339                5   \n",
       "39                        SAS*               682971852                5   \n",
       "40               Saudi Arabian               859673901                7   \n",
       "41          Singapore Airlines              2376857805                2   \n",
       "42               South African               651502442                2   \n",
       "43          Southwest Airlines              3276525770                1   \n",
       "44       Sri Lankan / AirLanka               325582976                2   \n",
       "45                      SWISS*               792601299                2   \n",
       "46                        TACA               259373346                3   \n",
       "47                         TAM              1509195646                8   \n",
       "48          TAP - Air Portugal               619130754                0   \n",
       "49                Thai Airways              1702802250                8   \n",
       "50            Turkish Airlines              1946098294                8   \n",
       "51       United / Continental*              7139291291               19   \n",
       "52  US Airways / America West*              2455687887               16   \n",
       "53            Vietnam Airlines               625084918                7   \n",
       "54             Virgin Atlantic              1005248585                1   \n",
       "55             Xiamen Airlines               430462962                9   \n",
       "\n",
       "    fatal_accidents_85_99  fatalities_85_99  incidents_00_14  \\\n",
       "0                       0                 0                0   \n",
       "1                      14               128                6   \n",
       "2                       0                 0                1   \n",
       "3                       1                64                5   \n",
       "4                       0                 0                2   \n",
       "5                       4                79                6   \n",
       "6                       1               329                4   \n",
       "7                       0                 0                5   \n",
       "8                       0                 0                5   \n",
       "9                       2                50                4   \n",
       "10                      1                 1                7   \n",
       "11                      5               101               17   \n",
       "12                      0                 0                1   \n",
       "13                      3               323                0   \n",
       "14                      0                 0                6   \n",
       "15                      0                 0                2   \n",
       "16                      6               535                2   \n",
       "17                      1                16                0   \n",
       "18                      1                47                0   \n",
       "19                     12               407               24   \n",
       "20                      3               282                4   \n",
       "21                      1                 4                1   \n",
       "22                      5               167                5   \n",
       "23                      0                 0                0   \n",
       "24                      3               260                4   \n",
       "25                      0                 0                3   \n",
       "26                      0                 0                1   \n",
       "27                      1               148                5   \n",
       "28                      1               520                0   \n",
       "29                      0                 0                2   \n",
       "30                      1                 3                1   \n",
       "31                      5               425                1   \n",
       "32                      2                21                0   \n",
       "33                      1                 2                3   \n",
       "34                      1                34                3   \n",
       "35                      3               234               10   \n",
       "36                      4                74                2   \n",
       "37                      0                 0                5   \n",
       "38                      3                51                3   \n",
       "39                      0                 0                6   \n",
       "40                      2               313               11   \n",
       "41                      2                 6                2   \n",
       "42                      1               159                1   \n",
       "43                      0                 0                8   \n",
       "44                      1                14                4   \n",
       "45                      1               229                3   \n",
       "46                      1                 3                1   \n",
       "47                      3                98                7   \n",
       "48                      0                 0                0   \n",
       "49                      4               308                2   \n",
       "50                      3                64                8   \n",
       "51                      8               319               14   \n",
       "52                      7               224               11   \n",
       "53                      3               171                1   \n",
       "54                      0                 0                0   \n",
       "55                      1                82                2   \n",
       "\n",
       "    fatal_accidents_00_14  fatalities_00_14  \n",
       "0                       0                 0  \n",
       "1                       1                88  \n",
       "2                       0                 0  \n",
       "3                       0                 0  \n",
       "4                       0                 0  \n",
       "5                       2               337  \n",
       "6                       1               158  \n",
       "7                       1                 7  \n",
       "8                       1                88  \n",
       "9                       0                 0  \n",
       "10                      0                 0  \n",
       "11                      3               416  \n",
       "12                      0                 0  \n",
       "13                      0                 0  \n",
       "14                      0                 0  \n",
       "15                      0                 0  \n",
       "16                      1               225  \n",
       "17                      0                 0  \n",
       "18                      0                 0  \n",
       "19                      2                51  \n",
       "20                      1                14  \n",
       "21                      0                 0  \n",
       "22                      2                92  \n",
       "23                      0                 0  \n",
       "24                      2                22  \n",
       "25                      1               143  \n",
       "26                      0                 0  \n",
       "27                      0                 0  \n",
       "28                      0                 0  \n",
       "29                      2               283  \n",
       "30                      0                 0  \n",
       "31                      0                 0  \n",
       "32                      0                 0  \n",
       "33                      0                 0  \n",
       "34                      2               537  \n",
       "35                      2                46  \n",
       "36                      1                 1  \n",
       "37                      0                 0  \n",
       "38                      0                 0  \n",
       "39                      1               110  \n",
       "40                      0                 0  \n",
       "41                      1                83  \n",
       "42                      0                 0  \n",
       "43                      0                 0  \n",
       "44                      0                 0  \n",
       "45                      0                 0  \n",
       "46                      1                 3  \n",
       "47                      2               188  \n",
       "48                      0                 0  \n",
       "49                      1                 1  \n",
       "50                      2                84  \n",
       "51                      2               109  \n",
       "52                      2                23  \n",
       "53                      0                 0  \n",
       "54                      0                 0  \n",
       "55                      0                 0  >"
      ]
     },
     "execution_count": 25,
     "metadata": {},
     "output_type": "execute_result"
    }
   ],
   "source": [
    "df.describe"
   ]
  },
  {
   "cell_type": "markdown",
   "id": "d803e81a",
   "metadata": {},
   "source": [
    "#### Show df column informations"
   ]
  },
  {
   "cell_type": "code",
   "execution_count": 27,
   "id": "c5718945",
   "metadata": {},
   "outputs": [
    {
     "data": {
      "text/plain": [
       "<bound method DataFrame.info of                        airline  avail_seat_km_per_week  incidents_85_99  \\\n",
       "0                   Aer Lingus               320906734                2   \n",
       "1                    Aeroflot*              1197672318               76   \n",
       "2        Aerolineas Argentinas               385803648                6   \n",
       "3                  Aeromexico*               596871813                3   \n",
       "4                   Air Canada              1865253802                2   \n",
       "5                   Air France              3004002661               14   \n",
       "6                   Air India*               869253552                2   \n",
       "7             Air New Zealand*               710174817                3   \n",
       "8             Alaska Airlines*               965346773                5   \n",
       "9                     Alitalia               698012498                7   \n",
       "10          All Nippon Airways              1841234177                3   \n",
       "11                   American*              5228357340               21   \n",
       "12           Austrian Airlines               358239823                1   \n",
       "13                     Avianca               396922563                5   \n",
       "14            British Airways*              3179760952                4   \n",
       "15             Cathay Pacific*              2582459303                0   \n",
       "16              China Airlines               813216487               12   \n",
       "17                      Condor               417982610                2   \n",
       "18                        COPA               550491507                3   \n",
       "19          Delta / Northwest*              6525658894               24   \n",
       "20                    Egyptair               557699891                8   \n",
       "21                       El Al               335448023                1   \n",
       "22          Ethiopian Airlines               488560643               25   \n",
       "23                     Finnair               506464950                1   \n",
       "24            Garuda Indonesia               613356665               10   \n",
       "25                    Gulf Air               301379762                1   \n",
       "26           Hawaiian Airlines               493877795                0   \n",
       "27                      Iberia              1173203126                4   \n",
       "28              Japan Airlines              1574217531                3   \n",
       "29               Kenya Airways               277414794                2   \n",
       "30                        KLM*              1874561773                7   \n",
       "31                  Korean Air              1734522605               12   \n",
       "32                LAN Airlines              1001965891                3   \n",
       "33                  Lufthansa*              3426529504                6   \n",
       "34           Malaysia Airlines              1039171244                3   \n",
       "35      Pakistan International               348563137                8   \n",
       "36         Philippine Airlines               413007158                7   \n",
       "37                     Qantas*              1917428984                1   \n",
       "38             Royal Air Maroc               295705339                5   \n",
       "39                        SAS*               682971852                5   \n",
       "40               Saudi Arabian               859673901                7   \n",
       "41          Singapore Airlines              2376857805                2   \n",
       "42               South African               651502442                2   \n",
       "43          Southwest Airlines              3276525770                1   \n",
       "44       Sri Lankan / AirLanka               325582976                2   \n",
       "45                      SWISS*               792601299                2   \n",
       "46                        TACA               259373346                3   \n",
       "47                         TAM              1509195646                8   \n",
       "48          TAP - Air Portugal               619130754                0   \n",
       "49                Thai Airways              1702802250                8   \n",
       "50            Turkish Airlines              1946098294                8   \n",
       "51       United / Continental*              7139291291               19   \n",
       "52  US Airways / America West*              2455687887               16   \n",
       "53            Vietnam Airlines               625084918                7   \n",
       "54             Virgin Atlantic              1005248585                1   \n",
       "55             Xiamen Airlines               430462962                9   \n",
       "\n",
       "    fatal_accidents_85_99  fatalities_85_99  incidents_00_14  \\\n",
       "0                       0                 0                0   \n",
       "1                      14               128                6   \n",
       "2                       0                 0                1   \n",
       "3                       1                64                5   \n",
       "4                       0                 0                2   \n",
       "5                       4                79                6   \n",
       "6                       1               329                4   \n",
       "7                       0                 0                5   \n",
       "8                       0                 0                5   \n",
       "9                       2                50                4   \n",
       "10                      1                 1                7   \n",
       "11                      5               101               17   \n",
       "12                      0                 0                1   \n",
       "13                      3               323                0   \n",
       "14                      0                 0                6   \n",
       "15                      0                 0                2   \n",
       "16                      6               535                2   \n",
       "17                      1                16                0   \n",
       "18                      1                47                0   \n",
       "19                     12               407               24   \n",
       "20                      3               282                4   \n",
       "21                      1                 4                1   \n",
       "22                      5               167                5   \n",
       "23                      0                 0                0   \n",
       "24                      3               260                4   \n",
       "25                      0                 0                3   \n",
       "26                      0                 0                1   \n",
       "27                      1               148                5   \n",
       "28                      1               520                0   \n",
       "29                      0                 0                2   \n",
       "30                      1                 3                1   \n",
       "31                      5               425                1   \n",
       "32                      2                21                0   \n",
       "33                      1                 2                3   \n",
       "34                      1                34                3   \n",
       "35                      3               234               10   \n",
       "36                      4                74                2   \n",
       "37                      0                 0                5   \n",
       "38                      3                51                3   \n",
       "39                      0                 0                6   \n",
       "40                      2               313               11   \n",
       "41                      2                 6                2   \n",
       "42                      1               159                1   \n",
       "43                      0                 0                8   \n",
       "44                      1                14                4   \n",
       "45                      1               229                3   \n",
       "46                      1                 3                1   \n",
       "47                      3                98                7   \n",
       "48                      0                 0                0   \n",
       "49                      4               308                2   \n",
       "50                      3                64                8   \n",
       "51                      8               319               14   \n",
       "52                      7               224               11   \n",
       "53                      3               171                1   \n",
       "54                      0                 0                0   \n",
       "55                      1                82                2   \n",
       "\n",
       "    fatal_accidents_00_14  fatalities_00_14  \n",
       "0                       0                 0  \n",
       "1                       1                88  \n",
       "2                       0                 0  \n",
       "3                       0                 0  \n",
       "4                       0                 0  \n",
       "5                       2               337  \n",
       "6                       1               158  \n",
       "7                       1                 7  \n",
       "8                       1                88  \n",
       "9                       0                 0  \n",
       "10                      0                 0  \n",
       "11                      3               416  \n",
       "12                      0                 0  \n",
       "13                      0                 0  \n",
       "14                      0                 0  \n",
       "15                      0                 0  \n",
       "16                      1               225  \n",
       "17                      0                 0  \n",
       "18                      0                 0  \n",
       "19                      2                51  \n",
       "20                      1                14  \n",
       "21                      0                 0  \n",
       "22                      2                92  \n",
       "23                      0                 0  \n",
       "24                      2                22  \n",
       "25                      1               143  \n",
       "26                      0                 0  \n",
       "27                      0                 0  \n",
       "28                      0                 0  \n",
       "29                      2               283  \n",
       "30                      0                 0  \n",
       "31                      0                 0  \n",
       "32                      0                 0  \n",
       "33                      0                 0  \n",
       "34                      2               537  \n",
       "35                      2                46  \n",
       "36                      1                 1  \n",
       "37                      0                 0  \n",
       "38                      0                 0  \n",
       "39                      1               110  \n",
       "40                      0                 0  \n",
       "41                      1                83  \n",
       "42                      0                 0  \n",
       "43                      0                 0  \n",
       "44                      0                 0  \n",
       "45                      0                 0  \n",
       "46                      1                 3  \n",
       "47                      2               188  \n",
       "48                      0                 0  \n",
       "49                      1                 1  \n",
       "50                      2                84  \n",
       "51                      2               109  \n",
       "52                      2                23  \n",
       "53                      0                 0  \n",
       "54                      0                 0  \n",
       "55                      0                 0  >"
      ]
     },
     "execution_count": 27,
     "metadata": {},
     "output_type": "execute_result"
    }
   ],
   "source": [
    "df.info"
   ]
  },
  {
   "cell_type": "markdown",
   "id": "59dc697a",
   "metadata": {},
   "source": [
    "#### Select companies and incidents_85_99 with incidents_85_99 is less than 10"
   ]
  },
  {
   "cell_type": "code",
   "execution_count": 60,
   "id": "47d08436",
   "metadata": {
    "scrolled": true
   },
   "outputs": [
    {
     "data": {
      "text/plain": [
       "(                   airline  avail_seat_km_per_week  incidents_85_99  \\\n",
       " 0               Aer Lingus               320906734                2   \n",
       " 2    Aerolineas Argentinas               385803648                6   \n",
       " 3              Aeromexico*               596871813                3   \n",
       " 4               Air Canada              1865253802                2   \n",
       " 6               Air India*               869253552                2   \n",
       " 7         Air New Zealand*               710174817                3   \n",
       " 8         Alaska Airlines*               965346773                5   \n",
       " 9                 Alitalia               698012498                7   \n",
       " 10      All Nippon Airways              1841234177                3   \n",
       " 12       Austrian Airlines               358239823                1   \n",
       " 13                 Avianca               396922563                5   \n",
       " 14        British Airways*              3179760952                4   \n",
       " 15         Cathay Pacific*              2582459303                0   \n",
       " 17                  Condor               417982610                2   \n",
       " 18                    COPA               550491507                3   \n",
       " 20                Egyptair               557699891                8   \n",
       " 21                   El Al               335448023                1   \n",
       " 23                 Finnair               506464950                1   \n",
       " 25                Gulf Air               301379762                1   \n",
       " 26       Hawaiian Airlines               493877795                0   \n",
       " 27                  Iberia              1173203126                4   \n",
       " 28          Japan Airlines              1574217531                3   \n",
       " 29           Kenya Airways               277414794                2   \n",
       " 30                    KLM*              1874561773                7   \n",
       " 32            LAN Airlines              1001965891                3   \n",
       " 33              Lufthansa*              3426529504                6   \n",
       " 34       Malaysia Airlines              1039171244                3   \n",
       " 35  Pakistan International               348563137                8   \n",
       " 36     Philippine Airlines               413007158                7   \n",
       " 37                 Qantas*              1917428984                1   \n",
       " 38         Royal Air Maroc               295705339                5   \n",
       " 39                    SAS*               682971852                5   \n",
       " 40           Saudi Arabian               859673901                7   \n",
       " 41      Singapore Airlines              2376857805                2   \n",
       " 42           South African               651502442                2   \n",
       " 43      Southwest Airlines              3276525770                1   \n",
       " 44   Sri Lankan / AirLanka               325582976                2   \n",
       " 45                  SWISS*               792601299                2   \n",
       " 46                    TACA               259373346                3   \n",
       " 47                     TAM              1509195646                8   \n",
       " 48      TAP - Air Portugal               619130754                0   \n",
       " 49            Thai Airways              1702802250                8   \n",
       " 50        Turkish Airlines              1946098294                8   \n",
       " 53        Vietnam Airlines               625084918                7   \n",
       " 54         Virgin Atlantic              1005248585                1   \n",
       " 55         Xiamen Airlines               430462962                9   \n",
       " \n",
       "     fatal_accidents_85_99  fatalities_85_99  incidents_00_14  \\\n",
       " 0                       0                 0                0   \n",
       " 2                       0                 0                1   \n",
       " 3                       1                64                5   \n",
       " 4                       0                 0                2   \n",
       " 6                       1               329                4   \n",
       " 7                       0                 0                5   \n",
       " 8                       0                 0                5   \n",
       " 9                       2                50                4   \n",
       " 10                      1                 1                7   \n",
       " 12                      0                 0                1   \n",
       " 13                      3               323                0   \n",
       " 14                      0                 0                6   \n",
       " 15                      0                 0                2   \n",
       " 17                      1                16                0   \n",
       " 18                      1                47                0   \n",
       " 20                      3               282                4   \n",
       " 21                      1                 4                1   \n",
       " 23                      0                 0                0   \n",
       " 25                      0                 0                3   \n",
       " 26                      0                 0                1   \n",
       " 27                      1               148                5   \n",
       " 28                      1               520                0   \n",
       " 29                      0                 0                2   \n",
       " 30                      1                 3                1   \n",
       " 32                      2                21                0   \n",
       " 33                      1                 2                3   \n",
       " 34                      1                34                3   \n",
       " 35                      3               234               10   \n",
       " 36                      4                74                2   \n",
       " 37                      0                 0                5   \n",
       " 38                      3                51                3   \n",
       " 39                      0                 0                6   \n",
       " 40                      2               313               11   \n",
       " 41                      2                 6                2   \n",
       " 42                      1               159                1   \n",
       " 43                      0                 0                8   \n",
       " 44                      1                14                4   \n",
       " 45                      1               229                3   \n",
       " 46                      1                 3                1   \n",
       " 47                      3                98                7   \n",
       " 48                      0                 0                0   \n",
       " 49                      4               308                2   \n",
       " 50                      3                64                8   \n",
       " 53                      3               171                1   \n",
       " 54                      0                 0                0   \n",
       " 55                      1                82                2   \n",
       " \n",
       "     fatal_accidents_00_14  fatalities_00_14  \n",
       " 0                       0                 0  \n",
       " 2                       0                 0  \n",
       " 3                       0                 0  \n",
       " 4                       0                 0  \n",
       " 6                       1               158  \n",
       " 7                       1                 7  \n",
       " 8                       1                88  \n",
       " 9                       0                 0  \n",
       " 10                      0                 0  \n",
       " 12                      0                 0  \n",
       " 13                      0                 0  \n",
       " 14                      0                 0  \n",
       " 15                      0                 0  \n",
       " 17                      0                 0  \n",
       " 18                      0                 0  \n",
       " 20                      1                14  \n",
       " 21                      0                 0  \n",
       " 23                      0                 0  \n",
       " 25                      1               143  \n",
       " 26                      0                 0  \n",
       " 27                      0                 0  \n",
       " 28                      0                 0  \n",
       " 29                      2               283  \n",
       " 30                      0                 0  \n",
       " 32                      0                 0  \n",
       " 33                      0                 0  \n",
       " 34                      2               537  \n",
       " 35                      2                46  \n",
       " 36                      1                 1  \n",
       " 37                      0                 0  \n",
       " 38                      0                 0  \n",
       " 39                      1               110  \n",
       " 40                      0                 0  \n",
       " 41                      1                83  \n",
       " 42                      0                 0  \n",
       " 43                      0                 0  \n",
       " 44                      0                 0  \n",
       " 45                      0                 0  \n",
       " 46                      1                 3  \n",
       " 47                      2               188  \n",
       " 48                      0                 0  \n",
       " 49                      1                 1  \n",
       " 50                      2                84  \n",
       " 53                      0                 0  \n",
       " 54                      0                 0  \n",
       " 55                      0                 0  ,\n",
       " ['airline', 'incidets_85_99'])"
      ]
     },
     "execution_count": 60,
     "metadata": {},
     "output_type": "execute_result"
    }
   ],
   "source": [
    "df[df[\"incidents_85_99\"] < 10], [\"airline\", \"incidets_85_99\"]"
   ]
  },
  {
   "cell_type": "markdown",
   "id": "e1a4f653",
   "metadata": {},
   "source": [
    "#### Group companies by first letter(lower) and take the mean incidents_85_99 and make it a dataframe again "
   ]
  },
  {
   "cell_type": "code",
   "execution_count": 73,
   "id": "f05c9d19",
   "metadata": {},
   "outputs": [
    {
     "data": {
      "text/plain": [
       "airline\n",
       "Aer Lingus                     2.0\n",
       "Aeroflot*                     76.0\n",
       "Aerolineas Argentinas          6.0\n",
       "Aeromexico*                    3.0\n",
       "Air Canada                     2.0\n",
       "Air France                    14.0\n",
       "Air India*                     2.0\n",
       "Air New Zealand*               3.0\n",
       "Alaska Airlines*               5.0\n",
       "Alitalia                       7.0\n",
       "All Nippon Airways             3.0\n",
       "American*                     21.0\n",
       "Austrian Airlines              1.0\n",
       "Avianca                        5.0\n",
       "British Airways*               4.0\n",
       "COPA                           3.0\n",
       "Cathay Pacific*                0.0\n",
       "China Airlines                12.0\n",
       "Condor                         2.0\n",
       "Delta / Northwest*            24.0\n",
       "Egyptair                       8.0\n",
       "El Al                          1.0\n",
       "Ethiopian Airlines            25.0\n",
       "Finnair                        1.0\n",
       "Garuda Indonesia              10.0\n",
       "Gulf Air                       1.0\n",
       "Hawaiian Airlines              0.0\n",
       "Iberia                         4.0\n",
       "Japan Airlines                 3.0\n",
       "KLM*                           7.0\n",
       "Kenya Airways                  2.0\n",
       "Korean Air                    12.0\n",
       "LAN Airlines                   3.0\n",
       "Lufthansa*                     6.0\n",
       "Malaysia Airlines              3.0\n",
       "Pakistan International         8.0\n",
       "Philippine Airlines            7.0\n",
       "Qantas*                        1.0\n",
       "Royal Air Maroc                5.0\n",
       "SAS*                           5.0\n",
       "SWISS*                         2.0\n",
       "Saudi Arabian                  7.0\n",
       "Singapore Airlines             2.0\n",
       "South African                  2.0\n",
       "Southwest Airlines             1.0\n",
       "Sri Lankan / AirLanka          2.0\n",
       "TACA                           3.0\n",
       "TAM                            8.0\n",
       "TAP - Air Portugal             0.0\n",
       "Thai Airways                   8.0\n",
       "Turkish Airlines               8.0\n",
       "US Airways / America West*    16.0\n",
       "United / Continental*         19.0\n",
       "Vietnam Airlines               7.0\n",
       "Virgin Atlantic                1.0\n",
       "Xiamen Airlines                9.0\n",
       "Name: incidents_85_99, dtype: float64"
      ]
     },
     "execution_count": 73,
     "metadata": {},
     "output_type": "execute_result"
    }
   ],
   "source": [
    "df.groupby(\"airline\")[\"incidents_85_99\"].mean() #questo mi confonde troppo"
   ]
  },
  {
   "cell_type": "code",
   "execution_count": null,
   "id": "600262c1",
   "metadata": {
    "scrolled": true
   },
   "outputs": [
    {
     "data": {
      "text/html": [
       "<div>\n",
       "<style scoped>\n",
       "    .dataframe tbody tr th:only-of-type {\n",
       "        vertical-align: middle;\n",
       "    }\n",
       "\n",
       "    .dataframe tbody tr th {\n",
       "        vertical-align: top;\n",
       "    }\n",
       "\n",
       "    .dataframe thead th {\n",
       "        text-align: right;\n",
       "    }\n",
       "</style>\n",
       "<table border=\"1\" class=\"dataframe\">\n",
       "  <thead>\n",
       "    <tr style=\"text-align: right;\">\n",
       "      <th></th>\n",
       "      <th>airline_fist_letter</th>\n",
       "      <th>incidents_85_99</th>\n",
       "    </tr>\n",
       "  </thead>\n",
       "  <tbody>\n",
       "    <tr>\n",
       "      <th>0</th>\n",
       "      <td>a</td>\n",
       "      <td>10.714286</td>\n",
       "    </tr>\n",
       "    <tr>\n",
       "      <th>1</th>\n",
       "      <td>b</td>\n",
       "      <td>4.000000</td>\n",
       "    </tr>\n",
       "    <tr>\n",
       "      <th>2</th>\n",
       "      <td>c</td>\n",
       "      <td>4.250000</td>\n",
       "    </tr>\n",
       "    <tr>\n",
       "      <th>3</th>\n",
       "      <td>d</td>\n",
       "      <td>24.000000</td>\n",
       "    </tr>\n",
       "    <tr>\n",
       "      <th>4</th>\n",
       "      <td>e</td>\n",
       "      <td>11.333333</td>\n",
       "    </tr>\n",
       "    <tr>\n",
       "      <th>5</th>\n",
       "      <td>f</td>\n",
       "      <td>1.000000</td>\n",
       "    </tr>\n",
       "    <tr>\n",
       "      <th>6</th>\n",
       "      <td>g</td>\n",
       "      <td>5.500000</td>\n",
       "    </tr>\n",
       "    <tr>\n",
       "      <th>7</th>\n",
       "      <td>h</td>\n",
       "      <td>0.000000</td>\n",
       "    </tr>\n",
       "    <tr>\n",
       "      <th>8</th>\n",
       "      <td>i</td>\n",
       "      <td>4.000000</td>\n",
       "    </tr>\n",
       "    <tr>\n",
       "      <th>9</th>\n",
       "      <td>j</td>\n",
       "      <td>3.000000</td>\n",
       "    </tr>\n",
       "    <tr>\n",
       "      <th>10</th>\n",
       "      <td>k</td>\n",
       "      <td>7.000000</td>\n",
       "    </tr>\n",
       "    <tr>\n",
       "      <th>11</th>\n",
       "      <td>l</td>\n",
       "      <td>4.500000</td>\n",
       "    </tr>\n",
       "    <tr>\n",
       "      <th>12</th>\n",
       "      <td>m</td>\n",
       "      <td>3.000000</td>\n",
       "    </tr>\n",
       "    <tr>\n",
       "      <th>13</th>\n",
       "      <td>p</td>\n",
       "      <td>7.500000</td>\n",
       "    </tr>\n",
       "    <tr>\n",
       "      <th>14</th>\n",
       "      <td>q</td>\n",
       "      <td>1.000000</td>\n",
       "    </tr>\n",
       "    <tr>\n",
       "      <th>15</th>\n",
       "      <td>r</td>\n",
       "      <td>5.000000</td>\n",
       "    </tr>\n",
       "    <tr>\n",
       "      <th>16</th>\n",
       "      <td>s</td>\n",
       "      <td>3.000000</td>\n",
       "    </tr>\n",
       "    <tr>\n",
       "      <th>17</th>\n",
       "      <td>t</td>\n",
       "      <td>5.400000</td>\n",
       "    </tr>\n",
       "    <tr>\n",
       "      <th>18</th>\n",
       "      <td>u</td>\n",
       "      <td>17.500000</td>\n",
       "    </tr>\n",
       "    <tr>\n",
       "      <th>19</th>\n",
       "      <td>v</td>\n",
       "      <td>4.000000</td>\n",
       "    </tr>\n",
       "    <tr>\n",
       "      <th>20</th>\n",
       "      <td>x</td>\n",
       "      <td>9.000000</td>\n",
       "    </tr>\n",
       "  </tbody>\n",
       "</table>\n",
       "</div>"
      ],
      "text/plain": [
       "   airline_fist_letter  incidents_85_99\n",
       "0                    a        10.714286\n",
       "1                    b         4.000000\n",
       "2                    c         4.250000\n",
       "3                    d        24.000000\n",
       "4                    e        11.333333\n",
       "5                    f         1.000000\n",
       "6                    g         5.500000\n",
       "7                    h         0.000000\n",
       "8                    i         4.000000\n",
       "9                    j         3.000000\n",
       "10                   k         7.000000\n",
       "11                   l         4.500000\n",
       "12                   m         3.000000\n",
       "13                   p         7.500000\n",
       "14                   q         1.000000\n",
       "15                   r         5.000000\n",
       "16                   s         3.000000\n",
       "17                   t         5.400000\n",
       "18                   u        17.500000\n",
       "19                   v         4.000000\n",
       "20                   x         9.000000"
      ]
     },
     "execution_count": 67,
     "metadata": {},
     "output_type": "execute_result"
    }
   ],
   "source": []
  }
 ],
 "metadata": {
  "kernelspec": {
   "display_name": "Python 3 (ipykernel)",
   "language": "python",
   "name": "python3"
  },
  "language_info": {
   "codemirror_mode": {
    "name": "ipython",
    "version": 3
   },
   "file_extension": ".py",
   "mimetype": "text/x-python",
   "name": "python",
   "nbconvert_exporter": "python",
   "pygments_lexer": "ipython3",
   "version": "3.11.4"
  }
 },
 "nbformat": 4,
 "nbformat_minor": 5
}
